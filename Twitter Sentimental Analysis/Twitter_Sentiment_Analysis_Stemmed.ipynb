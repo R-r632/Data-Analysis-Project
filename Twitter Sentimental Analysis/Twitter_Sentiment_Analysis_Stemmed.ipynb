{
  "cells": [
    {
      "cell_type": "code",
      "execution_count": 1,
      "id": "111ba94d",
      "metadata": {
        "colab": {
          "base_uri": "https://localhost:8080/"
        },
        "id": "111ba94d",
        "outputId": "687be8ae-47a1-4d3e-d5e5-36ec2ac14487"
      },
      "outputs": [
        {
          "name": "stdout",
          "output_type": "stream",
          "text": [
            "Requirement already satisfied: kaggle in e:\\anaconda3\\lib\\site-packages (1.7.4.2)\n",
            "Requirement already satisfied: bleach in e:\\anaconda3\\lib\\site-packages (from kaggle) (4.1.0)\n",
            "Requirement already satisfied: certifi>=14.05.14 in e:\\anaconda3\\lib\\site-packages (from kaggle) (2025.1.31)\n",
            "Requirement already satisfied: charset-normalizer in e:\\anaconda3\\lib\\site-packages (from kaggle) (3.3.2)\n",
            "Requirement already satisfied: idna in e:\\anaconda3\\lib\\site-packages (from kaggle) (3.7)\n",
            "Requirement already satisfied: protobuf in e:\\anaconda3\\lib\\site-packages (from kaggle) (5.29.4)\n",
            "Requirement already satisfied: python-dateutil>=2.5.3 in e:\\anaconda3\\lib\\site-packages (from kaggle) (2.9.0.post0)\n",
            "Requirement already satisfied: python-slugify in e:\\anaconda3\\lib\\site-packages (from kaggle) (5.0.2)\n",
            "Requirement already satisfied: requests in e:\\anaconda3\\lib\\site-packages (from kaggle) (2.32.3)\n",
            "Requirement already satisfied: setuptools>=21.0.0 in e:\\anaconda3\\lib\\site-packages (from kaggle) (75.1.0)\n",
            "Requirement already satisfied: six>=1.10 in e:\\anaconda3\\lib\\site-packages (from kaggle) (1.16.0)\n",
            "Requirement already satisfied: text-unidecode in e:\\anaconda3\\lib\\site-packages (from kaggle) (1.3)\n",
            "Requirement already satisfied: tqdm in e:\\anaconda3\\lib\\site-packages (from kaggle) (4.66.5)\n",
            "Requirement already satisfied: urllib3>=1.15.1 in e:\\anaconda3\\lib\\site-packages (from kaggle) (2.2.3)\n",
            "Requirement already satisfied: webencodings in e:\\anaconda3\\lib\\site-packages (from kaggle) (0.5.1)\n",
            "Requirement already satisfied: packaging in e:\\anaconda3\\lib\\site-packages (from bleach->kaggle) (24.1)\n",
            "Requirement already satisfied: colorama in e:\\anaconda3\\lib\\site-packages (from tqdm->kaggle) (0.4.6)\n"
          ]
        }
      ],
      "source": [
        "#Installing Kaggle Library\n",
        "!pip install kaggle"
      ]
    },
    {
      "cell_type": "code",
      "execution_count": 2,
      "id": "e7ab1e7a",
      "metadata": {
        "id": "e7ab1e7a"
      },
      "outputs": [],
      "source": [
        "import os\n",
        "import shutil"
      ]
    },
    {
      "cell_type": "code",
      "execution_count": 3,
      "id": "ce1dcda6",
      "metadata": {
        "id": "ce1dcda6"
      },
      "outputs": [],
      "source": [
        "# Create the .kaggle directory if it doesn't exist\n",
        "os.makedirs(os.path.expanduser(\"~/.kaggle\"), exist_ok=True)"
      ]
    },
    {
      "cell_type": "code",
      "execution_count": 4,
      "id": "ebe9e3c1",
      "metadata": {
        "colab": {
          "base_uri": "https://localhost:8080/",
          "height": 36
        },
        "id": "ebe9e3c1",
        "outputId": "1db7a126-95fd-452f-fc2b-b16cfb3ee6ec"
      },
      "outputs": [
        {
          "data": {
            "text/plain": [
              "'C:\\\\Users\\\\Aryan Kumar/.kaggle/kaggle.json'"
            ]
          },
          "execution_count": 4,
          "metadata": {},
          "output_type": "execute_result"
        }
      ],
      "source": [
        "# Copy the kaggle.json file into the .kaggle directory\n",
        "shutil.copy(\"kaggle.json\", os.path.expanduser(\"~/.kaggle/kaggle.json\"))"
      ]
    },
    {
      "cell_type": "code",
      "execution_count": 5,
      "id": "e33b6ce5",
      "metadata": {
        "id": "e33b6ce5"
      },
      "outputs": [],
      "source": [
        "# Set file permissions (skipped or adjusted for Windows)\n",
        "kaggle_path = os.path.expanduser(\"~/.kaggle/kaggle.json\")\n",
        "if os.name != 'nt':  # If not Windows\n",
        "    os.chmod(kaggle_path, 0o600)"
      ]
    },
    {
      "cell_type": "markdown",
      "id": "c262553e",
      "metadata": {
        "id": "c262553e"
      },
      "source": [
        "### Importing Twitter Sentimental Analysis"
      ]
    },
    {
      "cell_type": "code",
      "execution_count": 6,
      "id": "0edd2dfa",
      "metadata": {
        "colab": {
          "base_uri": "https://localhost:8080/"
        },
        "id": "0edd2dfa",
        "outputId": "b4a1d397-112c-48ff-996b-10c0fb2c745a"
      },
      "outputs": [
        {
          "name": "stdout",
          "output_type": "stream",
          "text": [
            "Dataset URL: https://www.kaggle.com/datasets/kazanova/sentiment140\n",
            "License(s): other\n",
            "sentiment140.zip: Skipping, found more recently modified local copy (use --force to force download)\n"
          ]
        }
      ],
      "source": [
        "# API to fetch the dataset from Kaggle\n",
        "!kaggle datasets download -d kazanova/sentiment140"
      ]
    },
    {
      "cell_type": "code",
      "execution_count": 7,
      "id": "86066e42",
      "metadata": {
        "colab": {
          "base_uri": "https://localhost:8080/"
        },
        "id": "86066e42",
        "outputId": "2894b783-3e91-42c2-8753-291af5bedfcd"
      },
      "outputs": [
        {
          "name": "stdout",
          "output_type": "stream",
          "text": [
            "Dataset extracted successfully!\n"
          ]
        }
      ],
      "source": [
        "#extracting the zip archive\n",
        "from zipfile import ZipFile\n",
        "with ZipFile('sentiment140.zip', 'r') as zip_ref:\n",
        "    zip_ref.extractall('sentiment140')\n",
        "    print(\"Dataset extracted successfully!\")"
      ]
    },
    {
      "cell_type": "markdown",
      "id": "8cbb241f",
      "metadata": {
        "id": "8cbb241f"
      },
      "source": [
        "#### Importing The Dependencies"
      ]
    },
    {
      "cell_type": "code",
      "execution_count": 8,
      "id": "751bd997",
      "metadata": {
        "id": "751bd997"
      },
      "outputs": [],
      "source": [
        "import pandas as pd\n",
        "import numpy as np\n",
        "import matplotlib.pyplot as plt\n",
        "import re\n",
        "from nltk.corpus import stopwords\n",
        "from nltk.stem.porter import PorterStemmer\n",
        "from sklearn.model_selection import train_test_split\n",
        "from sklearn.feature_extraction.text import TfidfVectorizer\n",
        "from sklearn.linear_model import LogisticRegression\n",
        "from sklearn.metrics import accuracy_score, confusion_matrix, classification_report\n"
      ]
    },
    {
      "cell_type": "code",
      "execution_count": 9,
      "id": "75566b9d",
      "metadata": {
        "colab": {
          "base_uri": "https://localhost:8080/"
        },
        "id": "75566b9d",
        "outputId": "f263eb6c-d67c-4187-8b18-c53bab8ad073"
      },
      "outputs": [
        {
          "name": "stderr",
          "output_type": "stream",
          "text": [
            "[nltk_data] Downloading package stopwords to C:\\Users\\Aryan\n",
            "[nltk_data]     Kumar\\AppData\\Roaming\\nltk_data...\n",
            "[nltk_data]   Package stopwords is already up-to-date!\n"
          ]
        },
        {
          "data": {
            "text/plain": [
              "True"
            ]
          },
          "execution_count": 9,
          "metadata": {},
          "output_type": "execute_result"
        }
      ],
      "source": [
        "import nltk\n",
        "nltk.download('stopwords')"
      ]
    },
    {
      "cell_type": "code",
      "execution_count": 10,
      "id": "cbc5baa0",
      "metadata": {
        "colab": {
          "base_uri": "https://localhost:8080/"
        },
        "id": "cbc5baa0",
        "outputId": "9c668473-c1f2-46c4-f096-1f3b6b3b43ed"
      },
      "outputs": [
        {
          "name": "stdout",
          "output_type": "stream",
          "text": [
            "['a', 'about', 'above', 'after', 'again', 'against', 'ain', 'all', 'am', 'an', 'and', 'any', 'are', 'aren', \"aren't\", 'as', 'at', 'be', 'because', 'been', 'before', 'being', 'below', 'between', 'both', 'but', 'by', 'can', 'couldn', \"couldn't\", 'd', 'did', 'didn', \"didn't\", 'do', 'does', 'doesn', \"doesn't\", 'doing', 'don', \"don't\", 'down', 'during', 'each', 'few', 'for', 'from', 'further', 'had', 'hadn', \"hadn't\", 'has', 'hasn', \"hasn't\", 'have', 'haven', \"haven't\", 'having', 'he', \"he'd\", \"he'll\", 'her', 'here', 'hers', 'herself', \"he's\", 'him', 'himself', 'his', 'how', 'i', \"i'd\", 'if', \"i'll\", \"i'm\", 'in', 'into', 'is', 'isn', \"isn't\", 'it', \"it'd\", \"it'll\", \"it's\", 'its', 'itself', \"i've\", 'just', 'll', 'm', 'ma', 'me', 'mightn', \"mightn't\", 'more', 'most', 'mustn', \"mustn't\", 'my', 'myself', 'needn', \"needn't\", 'no', 'nor', 'not', 'now', 'o', 'of', 'off', 'on', 'once', 'only', 'or', 'other', 'our', 'ours', 'ourselves', 'out', 'over', 'own', 're', 's', 'same', 'shan', \"shan't\", 'she', \"she'd\", \"she'll\", \"she's\", 'should', 'shouldn', \"shouldn't\", \"should've\", 'so', 'some', 'such', 't', 'than', 'that', \"that'll\", 'the', 'their', 'theirs', 'them', 'themselves', 'then', 'there', 'these', 'they', \"they'd\", \"they'll\", \"they're\", \"they've\", 'this', 'those', 'through', 'to', 'too', 'under', 'until', 'up', 've', 'very', 'was', 'wasn', \"wasn't\", 'we', \"we'd\", \"we'll\", \"we're\", 'were', 'weren', \"weren't\", \"we've\", 'what', 'when', 'where', 'which', 'while', 'who', 'whom', 'why', 'will', 'with', 'won', \"won't\", 'wouldn', \"wouldn't\", 'y', 'you', \"you'd\", \"you'll\", 'your', \"you're\", 'yours', 'yourself', 'yourselves', \"you've\"]\n"
          ]
        }
      ],
      "source": [
        "#printing the stopwords in English\n",
        "print(stopwords.words('english'))"
      ]
    },
    {
      "cell_type": "markdown",
      "id": "165e858a",
      "metadata": {
        "id": "165e858a"
      },
      "source": [
        "### About Datasets"
      ]
    },
    {
      "cell_type": "markdown",
      "id": "fbf36e86",
      "metadata": {
        "id": "fbf36e86"
      },
      "source": [
        "This is the sentiment140 dataset. It contains 1,600,000 tweets extracted using the twitter api . The tweets have been annotated (0 = negative, 4 = positive) and they can be used to detect sentiment ."
      ]
    },
    {
      "cell_type": "markdown",
      "id": "a08f469c",
      "metadata": {
        "id": "a08f469c"
      },
      "source": [
        "#### Content\n",
        "\n",
        "It contains the following 6 fields:-\n",
        "1. target: the polarity of the tweet (0 = negative, 2 = neutral, 4 = positive)\n",
        "2. ids: The id of the tweet ( 2087)\n",
        "3. date: the date of the tweet (Sat May 16 23:58:44 UTC 2009)\n",
        "4. flag: The query (lyx). If there is no query, then this value is NO_QUERY.\n",
        "5. user: the user that tweeted (robotickilldozr)\n",
        "6. text: the text of the tweet (Lyx is cool)"
      ]
    },
    {
      "cell_type": "markdown",
      "id": "18ce0e68",
      "metadata": {
        "id": "18ce0e68"
      },
      "source": [
        "#### Data Processing"
      ]
    },
    {
      "cell_type": "code",
      "execution_count": 11,
      "id": "5d6c9eef",
      "metadata": {
        "id": "5d6c9eef"
      },
      "outputs": [],
      "source": [
        "#Loading the CSV Data\n",
        "twitter_data = pd.read_csv('sentiment140/training.1600000.processed.noemoticon.csv', encoding='ISO-8859-1')"
      ]
    },
    {
      "cell_type": "code",
      "execution_count": 12,
      "id": "fc318a1e",
      "metadata": {
        "colab": {
          "base_uri": "https://localhost:8080/"
        },
        "id": "fc318a1e",
        "outputId": "8d80f8f0-682b-41f7-d5cb-6c688e826f33"
      },
      "outputs": [
        {
          "data": {
            "text/plain": [
              "(1599999, 6)"
            ]
          },
          "execution_count": 12,
          "metadata": {},
          "output_type": "execute_result"
        }
      ],
      "source": [
        "twitter_data.shape"
      ]
    },
    {
      "cell_type": "code",
      "execution_count": 13,
      "id": "8ee69775",
      "metadata": {
        "colab": {
          "base_uri": "https://localhost:8080/",
          "height": 310
        },
        "id": "8ee69775",
        "outputId": "df7a9776-ae28-47f3-d484-29e4fcff76bb"
      },
      "outputs": [
        {
          "data": {
            "application/vnd.microsoft.datawrangler.viewer.v0+json": {
              "columns": [
                {
                  "name": "index",
                  "rawType": "int64",
                  "type": "integer"
                },
                {
                  "name": "0",
                  "rawType": "int64",
                  "type": "integer"
                },
                {
                  "name": "1467810369",
                  "rawType": "int64",
                  "type": "integer"
                },
                {
                  "name": "Mon Apr 06 22:19:45 PDT 2009",
                  "rawType": "object",
                  "type": "string"
                },
                {
                  "name": "NO_QUERY",
                  "rawType": "object",
                  "type": "string"
                },
                {
                  "name": "_TheSpecialOne_",
                  "rawType": "object",
                  "type": "string"
                },
                {
                  "name": "@switchfoot http://twitpic.com/2y1zl - Awww, that's a bummer.  You shoulda got David Carr of Third Day to do it. ;D",
                  "rawType": "object",
                  "type": "string"
                }
              ],
              "conversionMethod": "pd.DataFrame",
              "ref": "2c53223d-b23e-4044-b190-cdafdca50b05",
              "rows": [
                [
                  "0",
                  "0",
                  "1467810672",
                  "Mon Apr 06 22:19:49 PDT 2009",
                  "NO_QUERY",
                  "scotthamilton",
                  "is upset that he can't update his Facebook by texting it... and might cry as a result  School today also. Blah!"
                ],
                [
                  "1",
                  "0",
                  "1467810917",
                  "Mon Apr 06 22:19:53 PDT 2009",
                  "NO_QUERY",
                  "mattycus",
                  "@Kenichan I dived many times for the ball. Managed to save 50%  The rest go out of bounds"
                ],
                [
                  "2",
                  "0",
                  "1467811184",
                  "Mon Apr 06 22:19:57 PDT 2009",
                  "NO_QUERY",
                  "ElleCTF",
                  "my whole body feels itchy and like its on fire "
                ],
                [
                  "3",
                  "0",
                  "1467811193",
                  "Mon Apr 06 22:19:57 PDT 2009",
                  "NO_QUERY",
                  "Karoli",
                  "@nationwideclass no, it's not behaving at all. i'm mad. why am i here? because I can't see you all over there. "
                ],
                [
                  "4",
                  "0",
                  "1467811372",
                  "Mon Apr 06 22:20:00 PDT 2009",
                  "NO_QUERY",
                  "joy_wolf",
                  "@Kwesidei not the whole crew "
                ]
              ],
              "shape": {
                "columns": 6,
                "rows": 5
              }
            },
            "text/html": [
              "<div>\n",
              "<style scoped>\n",
              "    .dataframe tbody tr th:only-of-type {\n",
              "        vertical-align: middle;\n",
              "    }\n",
              "\n",
              "    .dataframe tbody tr th {\n",
              "        vertical-align: top;\n",
              "    }\n",
              "\n",
              "    .dataframe thead th {\n",
              "        text-align: right;\n",
              "    }\n",
              "</style>\n",
              "<table border=\"1\" class=\"dataframe\">\n",
              "  <thead>\n",
              "    <tr style=\"text-align: right;\">\n",
              "      <th></th>\n",
              "      <th>0</th>\n",
              "      <th>1467810369</th>\n",
              "      <th>Mon Apr 06 22:19:45 PDT 2009</th>\n",
              "      <th>NO_QUERY</th>\n",
              "      <th>_TheSpecialOne_</th>\n",
              "      <th>@switchfoot http://twitpic.com/2y1zl - Awww, that's a bummer.  You shoulda got David Carr of Third Day to do it. ;D</th>\n",
              "    </tr>\n",
              "  </thead>\n",
              "  <tbody>\n",
              "    <tr>\n",
              "      <th>0</th>\n",
              "      <td>0</td>\n",
              "      <td>1467810672</td>\n",
              "      <td>Mon Apr 06 22:19:49 PDT 2009</td>\n",
              "      <td>NO_QUERY</td>\n",
              "      <td>scotthamilton</td>\n",
              "      <td>is upset that he can't update his Facebook by ...</td>\n",
              "    </tr>\n",
              "    <tr>\n",
              "      <th>1</th>\n",
              "      <td>0</td>\n",
              "      <td>1467810917</td>\n",
              "      <td>Mon Apr 06 22:19:53 PDT 2009</td>\n",
              "      <td>NO_QUERY</td>\n",
              "      <td>mattycus</td>\n",
              "      <td>@Kenichan I dived many times for the ball. Man...</td>\n",
              "    </tr>\n",
              "    <tr>\n",
              "      <th>2</th>\n",
              "      <td>0</td>\n",
              "      <td>1467811184</td>\n",
              "      <td>Mon Apr 06 22:19:57 PDT 2009</td>\n",
              "      <td>NO_QUERY</td>\n",
              "      <td>ElleCTF</td>\n",
              "      <td>my whole body feels itchy and like its on fire</td>\n",
              "    </tr>\n",
              "    <tr>\n",
              "      <th>3</th>\n",
              "      <td>0</td>\n",
              "      <td>1467811193</td>\n",
              "      <td>Mon Apr 06 22:19:57 PDT 2009</td>\n",
              "      <td>NO_QUERY</td>\n",
              "      <td>Karoli</td>\n",
              "      <td>@nationwideclass no, it's not behaving at all....</td>\n",
              "    </tr>\n",
              "    <tr>\n",
              "      <th>4</th>\n",
              "      <td>0</td>\n",
              "      <td>1467811372</td>\n",
              "      <td>Mon Apr 06 22:20:00 PDT 2009</td>\n",
              "      <td>NO_QUERY</td>\n",
              "      <td>joy_wolf</td>\n",
              "      <td>@Kwesidei not the whole crew</td>\n",
              "    </tr>\n",
              "  </tbody>\n",
              "</table>\n",
              "</div>"
            ],
            "text/plain": [
              "   0  1467810369  Mon Apr 06 22:19:45 PDT 2009  NO_QUERY _TheSpecialOne_  \\\n",
              "0  0  1467810672  Mon Apr 06 22:19:49 PDT 2009  NO_QUERY   scotthamilton   \n",
              "1  0  1467810917  Mon Apr 06 22:19:53 PDT 2009  NO_QUERY        mattycus   \n",
              "2  0  1467811184  Mon Apr 06 22:19:57 PDT 2009  NO_QUERY         ElleCTF   \n",
              "3  0  1467811193  Mon Apr 06 22:19:57 PDT 2009  NO_QUERY          Karoli   \n",
              "4  0  1467811372  Mon Apr 06 22:20:00 PDT 2009  NO_QUERY        joy_wolf   \n",
              "\n",
              "  @switchfoot http://twitpic.com/2y1zl - Awww, that's a bummer.  You shoulda got David Carr of Third Day to do it. ;D  \n",
              "0  is upset that he can't update his Facebook by ...                                                                   \n",
              "1  @Kenichan I dived many times for the ball. Man...                                                                   \n",
              "2    my whole body feels itchy and like its on fire                                                                    \n",
              "3  @nationwideclass no, it's not behaving at all....                                                                   \n",
              "4                      @Kwesidei not the whole crew                                                                    "
            ]
          },
          "execution_count": 13,
          "metadata": {},
          "output_type": "execute_result"
        }
      ],
      "source": [
        "twitter_data.head(5)"
      ]
    },
    {
      "cell_type": "code",
      "execution_count": 14,
      "id": "8f8eaec1",
      "metadata": {
        "id": "8f8eaec1"
      },
      "outputs": [],
      "source": [
        "#Naming the column and Reading the data\n",
        "column_names = ['target', 'id', 'date', 'flag', 'user', 'text']\n",
        "twitter_data = pd.read_csv('sentiment140/training.1600000.processed.noemoticon.csv', encoding='ISO-8859-1', names=column_names)"
      ]
    },
    {
      "cell_type": "code",
      "execution_count": 15,
      "id": "3db9ce78",
      "metadata": {
        "colab": {
          "base_uri": "https://localhost:8080/",
          "height": 206
        },
        "id": "3db9ce78",
        "outputId": "6d7e4756-c0e5-46c4-9990-c3b5b1d179aa"
      },
      "outputs": [
        {
          "data": {
            "application/vnd.microsoft.datawrangler.viewer.v0+json": {
              "columns": [
                {
                  "name": "index",
                  "rawType": "int64",
                  "type": "integer"
                },
                {
                  "name": "target",
                  "rawType": "int64",
                  "type": "integer"
                },
                {
                  "name": "id",
                  "rawType": "int64",
                  "type": "integer"
                },
                {
                  "name": "date",
                  "rawType": "object",
                  "type": "string"
                },
                {
                  "name": "flag",
                  "rawType": "object",
                  "type": "string"
                },
                {
                  "name": "user",
                  "rawType": "object",
                  "type": "string"
                },
                {
                  "name": "text",
                  "rawType": "object",
                  "type": "string"
                }
              ],
              "conversionMethod": "pd.DataFrame",
              "ref": "fc5850c8-cc9d-433f-8dcd-55a939832ff7",
              "rows": [
                [
                  "0",
                  "0",
                  "1467810369",
                  "Mon Apr 06 22:19:45 PDT 2009",
                  "NO_QUERY",
                  "_TheSpecialOne_",
                  "@switchfoot http://twitpic.com/2y1zl - Awww, that's a bummer.  You shoulda got David Carr of Third Day to do it. ;D"
                ],
                [
                  "1",
                  "0",
                  "1467810672",
                  "Mon Apr 06 22:19:49 PDT 2009",
                  "NO_QUERY",
                  "scotthamilton",
                  "is upset that he can't update his Facebook by texting it... and might cry as a result  School today also. Blah!"
                ],
                [
                  "2",
                  "0",
                  "1467810917",
                  "Mon Apr 06 22:19:53 PDT 2009",
                  "NO_QUERY",
                  "mattycus",
                  "@Kenichan I dived many times for the ball. Managed to save 50%  The rest go out of bounds"
                ],
                [
                  "3",
                  "0",
                  "1467811184",
                  "Mon Apr 06 22:19:57 PDT 2009",
                  "NO_QUERY",
                  "ElleCTF",
                  "my whole body feels itchy and like its on fire "
                ],
                [
                  "4",
                  "0",
                  "1467811193",
                  "Mon Apr 06 22:19:57 PDT 2009",
                  "NO_QUERY",
                  "Karoli",
                  "@nationwideclass no, it's not behaving at all. i'm mad. why am i here? because I can't see you all over there. "
                ]
              ],
              "shape": {
                "columns": 6,
                "rows": 5
              }
            },
            "text/html": [
              "<div>\n",
              "<style scoped>\n",
              "    .dataframe tbody tr th:only-of-type {\n",
              "        vertical-align: middle;\n",
              "    }\n",
              "\n",
              "    .dataframe tbody tr th {\n",
              "        vertical-align: top;\n",
              "    }\n",
              "\n",
              "    .dataframe thead th {\n",
              "        text-align: right;\n",
              "    }\n",
              "</style>\n",
              "<table border=\"1\" class=\"dataframe\">\n",
              "  <thead>\n",
              "    <tr style=\"text-align: right;\">\n",
              "      <th></th>\n",
              "      <th>target</th>\n",
              "      <th>id</th>\n",
              "      <th>date</th>\n",
              "      <th>flag</th>\n",
              "      <th>user</th>\n",
              "      <th>text</th>\n",
              "    </tr>\n",
              "  </thead>\n",
              "  <tbody>\n",
              "    <tr>\n",
              "      <th>0</th>\n",
              "      <td>0</td>\n",
              "      <td>1467810369</td>\n",
              "      <td>Mon Apr 06 22:19:45 PDT 2009</td>\n",
              "      <td>NO_QUERY</td>\n",
              "      <td>_TheSpecialOne_</td>\n",
              "      <td>@switchfoot http://twitpic.com/2y1zl - Awww, t...</td>\n",
              "    </tr>\n",
              "    <tr>\n",
              "      <th>1</th>\n",
              "      <td>0</td>\n",
              "      <td>1467810672</td>\n",
              "      <td>Mon Apr 06 22:19:49 PDT 2009</td>\n",
              "      <td>NO_QUERY</td>\n",
              "      <td>scotthamilton</td>\n",
              "      <td>is upset that he can't update his Facebook by ...</td>\n",
              "    </tr>\n",
              "    <tr>\n",
              "      <th>2</th>\n",
              "      <td>0</td>\n",
              "      <td>1467810917</td>\n",
              "      <td>Mon Apr 06 22:19:53 PDT 2009</td>\n",
              "      <td>NO_QUERY</td>\n",
              "      <td>mattycus</td>\n",
              "      <td>@Kenichan I dived many times for the ball. Man...</td>\n",
              "    </tr>\n",
              "    <tr>\n",
              "      <th>3</th>\n",
              "      <td>0</td>\n",
              "      <td>1467811184</td>\n",
              "      <td>Mon Apr 06 22:19:57 PDT 2009</td>\n",
              "      <td>NO_QUERY</td>\n",
              "      <td>ElleCTF</td>\n",
              "      <td>my whole body feels itchy and like its on fire</td>\n",
              "    </tr>\n",
              "    <tr>\n",
              "      <th>4</th>\n",
              "      <td>0</td>\n",
              "      <td>1467811193</td>\n",
              "      <td>Mon Apr 06 22:19:57 PDT 2009</td>\n",
              "      <td>NO_QUERY</td>\n",
              "      <td>Karoli</td>\n",
              "      <td>@nationwideclass no, it's not behaving at all....</td>\n",
              "    </tr>\n",
              "  </tbody>\n",
              "</table>\n",
              "</div>"
            ],
            "text/plain": [
              "   target          id                          date      flag  \\\n",
              "0       0  1467810369  Mon Apr 06 22:19:45 PDT 2009  NO_QUERY   \n",
              "1       0  1467810672  Mon Apr 06 22:19:49 PDT 2009  NO_QUERY   \n",
              "2       0  1467810917  Mon Apr 06 22:19:53 PDT 2009  NO_QUERY   \n",
              "3       0  1467811184  Mon Apr 06 22:19:57 PDT 2009  NO_QUERY   \n",
              "4       0  1467811193  Mon Apr 06 22:19:57 PDT 2009  NO_QUERY   \n",
              "\n",
              "              user                                               text  \n",
              "0  _TheSpecialOne_  @switchfoot http://twitpic.com/2y1zl - Awww, t...  \n",
              "1    scotthamilton  is upset that he can't update his Facebook by ...  \n",
              "2         mattycus  @Kenichan I dived many times for the ball. Man...  \n",
              "3          ElleCTF    my whole body feels itchy and like its on fire   \n",
              "4           Karoli  @nationwideclass no, it's not behaving at all....  "
            ]
          },
          "execution_count": 15,
          "metadata": {},
          "output_type": "execute_result"
        }
      ],
      "source": [
        "twitter_data.head(5)"
      ]
    },
    {
      "cell_type": "code",
      "execution_count": 16,
      "id": "40a5c915",
      "metadata": {
        "colab": {
          "base_uri": "https://localhost:8080/",
          "height": 272
        },
        "id": "40a5c915",
        "outputId": "ed952054-0364-4769-f926-569cb18535ea"
      },
      "outputs": [
        {
          "data": {
            "text/plain": [
              "target    0\n",
              "id        0\n",
              "date      0\n",
              "flag      0\n",
              "user      0\n",
              "text      0\n",
              "dtype: int64"
            ]
          },
          "execution_count": 16,
          "metadata": {},
          "output_type": "execute_result"
        }
      ],
      "source": [
        "#counting the number of missing values in the dataset\n",
        "twitter_data.isnull().sum()"
      ]
    },
    {
      "cell_type": "code",
      "execution_count": 17,
      "id": "117988ec",
      "metadata": {
        "colab": {
          "base_uri": "https://localhost:8080/",
          "height": 178
        },
        "id": "117988ec",
        "outputId": "1f8f9942-f87d-4c52-f93a-8b6d0fcb60bf"
      },
      "outputs": [
        {
          "data": {
            "text/plain": [
              "target\n",
              "0    800000\n",
              "4    800000\n",
              "Name: count, dtype: int64"
            ]
          },
          "execution_count": 17,
          "metadata": {},
          "output_type": "execute_result"
        }
      ],
      "source": [
        "#checking the distribution of the target column\n",
        "twitter_data['target'].value_counts()"
      ]
    },
    {
      "cell_type": "markdown",
      "id": "81898bec",
      "metadata": {
        "id": "81898bec"
      },
      "source": [
        "#### Convert the target '4' to '1'"
      ]
    },
    {
      "cell_type": "code",
      "execution_count": 18,
      "id": "003832a8",
      "metadata": {
        "id": "003832a8"
      },
      "outputs": [],
      "source": [
        "twitter_data.replace({'target': {4:1}}, inplace=True)"
      ]
    },
    {
      "cell_type": "code",
      "execution_count": 19,
      "id": "616c40ad",
      "metadata": {
        "colab": {
          "base_uri": "https://localhost:8080/",
          "height": 178
        },
        "id": "616c40ad",
        "outputId": "f6d3be07-15d1-4322-a9bd-7ff7f63e8b7c"
      },
      "outputs": [
        {
          "data": {
            "text/plain": [
              "target\n",
              "0    800000\n",
              "1    800000\n",
              "Name: count, dtype: int64"
            ]
          },
          "execution_count": 19,
          "metadata": {},
          "output_type": "execute_result"
        }
      ],
      "source": [
        "twitter_data['target'].value_counts()"
      ]
    },
    {
      "cell_type": "markdown",
      "id": "2b3af1f1",
      "metadata": {
        "id": "2b3af1f1"
      },
      "source": [
        "0 ----> Negative <br>\n",
        "1 ----> Positive"
      ]
    },
    {
      "cell_type": "markdown",
      "id": "51e3e740",
      "metadata": {
        "id": "51e3e740"
      },
      "source": [
        "**Stemming**"
      ]
    },
    {
      "cell_type": "markdown",
      "id": "f0ef38af",
      "metadata": {
        "id": "f0ef38af"
      },
      "source": [
        "Steeming is the process of producing a word to its Root Word <br>\n",
        "Example: Actor, Actress, Acting = Act"
      ]
    },
    {
      "cell_type": "code",
      "execution_count": 20,
      "id": "a7671cce",
      "metadata": {
        "id": "a7671cce"
      },
      "outputs": [],
      "source": [
        "port_stem = PorterStemmer()"
      ]
    },
    {
      "cell_type": "code",
      "execution_count": 21,
      "id": "c3a7ffc9",
      "metadata": {
        "id": "c3a7ffc9"
      },
      "outputs": [],
      "source": [
        "def stemming(content):\n",
        "    stemmed_content = re.sub(r'@[A-Za-z0-9]+', '', content) #Removing @mentions\n",
        "    stemmed_content = re.sub(r'#', '', stemmed_content) #Removing the '#' symbol\n",
        "    stemmed_content = re.sub(r'RT[\\s]+', '', stemmed_content) #Removing RT\n",
        "    stemmed_content = re.sub(r'https?:\\/\\/\\S+', '', stemmed_content) #Removing hyperlinks\n",
        "    stemmed_content = re.sub(r'[^a-zA-Z]', ' ', stemmed_content) #Removing special characters\n",
        "    stemmed_content = re.sub(r'\\s+', ' ', stemmed_content, flags=re.I|re.A) #Removing extra spaces\n",
        "    stemmed_content = stemmed_content.lower() #Converting to lowercase\n",
        "    stemmed_content = stemmed_content.split() #Splitting the words\n",
        "    stemmed_content = [port_stem.stem(word) for word in stemmed_content if word not in stopwords.words('english')] #Stemming the words and removing stopwords\n",
        "    stemmed_content = ' '.join(stemmed_content) #Joining the words back together\n",
        "    return stemmed_content"
      ]
    },
    {
      "cell_type": "code",
      "execution_count": 22,
      "id": "decf43ef",
      "metadata": {
        "id": "decf43ef"
      },
      "outputs": [],
      "source": [
        "twitter_data['stemmed_content'] = twitter_data['text'].apply(stemming)"
      ]
    },
    {
      "cell_type": "code",
      "execution_count": 23,
      "id": "bf111f23",
      "metadata": {
        "colab": {
          "base_uri": "https://localhost:8080/",
          "height": 293
        },
        "id": "bf111f23",
        "outputId": "5a231edd-e447-4540-cdeb-e905e01cdc34"
      },
      "outputs": [
        {
          "data": {
            "application/vnd.microsoft.datawrangler.viewer.v0+json": {
              "columns": [
                {
                  "name": "index",
                  "rawType": "int64",
                  "type": "integer"
                },
                {
                  "name": "target",
                  "rawType": "int64",
                  "type": "integer"
                },
                {
                  "name": "id",
                  "rawType": "int64",
                  "type": "integer"
                },
                {
                  "name": "date",
                  "rawType": "object",
                  "type": "string"
                },
                {
                  "name": "flag",
                  "rawType": "object",
                  "type": "string"
                },
                {
                  "name": "user",
                  "rawType": "object",
                  "type": "string"
                },
                {
                  "name": "text",
                  "rawType": "object",
                  "type": "string"
                },
                {
                  "name": "stemmed_content",
                  "rawType": "object",
                  "type": "string"
                }
              ],
              "conversionMethod": "pd.DataFrame",
              "ref": "d0f4a776-b6ff-4c8a-a386-29891f436aac",
              "rows": [
                [
                  "0",
                  "0",
                  "1467810369",
                  "Mon Apr 06 22:19:45 PDT 2009",
                  "NO_QUERY",
                  "_TheSpecialOne_",
                  "@switchfoot http://twitpic.com/2y1zl - Awww, that's a bummer.  You shoulda got David Carr of Third Day to do it. ;D",
                  "awww bummer shoulda got david carr third day"
                ],
                [
                  "1",
                  "0",
                  "1467810672",
                  "Mon Apr 06 22:19:49 PDT 2009",
                  "NO_QUERY",
                  "scotthamilton",
                  "is upset that he can't update his Facebook by texting it... and might cry as a result  School today also. Blah!",
                  "upset updat facebook text might cri result school today also blah"
                ],
                [
                  "2",
                  "0",
                  "1467810917",
                  "Mon Apr 06 22:19:53 PDT 2009",
                  "NO_QUERY",
                  "mattycus",
                  "@Kenichan I dived many times for the ball. Managed to save 50%  The rest go out of bounds",
                  "dive mani time ball manag save rest go bound"
                ],
                [
                  "3",
                  "0",
                  "1467811184",
                  "Mon Apr 06 22:19:57 PDT 2009",
                  "NO_QUERY",
                  "ElleCTF",
                  "my whole body feels itchy and like its on fire ",
                  "whole bodi feel itchi like fire"
                ],
                [
                  "4",
                  "0",
                  "1467811193",
                  "Mon Apr 06 22:19:57 PDT 2009",
                  "NO_QUERY",
                  "Karoli",
                  "@nationwideclass no, it's not behaving at all. i'm mad. why am i here? because I can't see you all over there. ",
                  "behav mad see"
                ]
              ],
              "shape": {
                "columns": 7,
                "rows": 5
              }
            },
            "text/html": [
              "<div>\n",
              "<style scoped>\n",
              "    .dataframe tbody tr th:only-of-type {\n",
              "        vertical-align: middle;\n",
              "    }\n",
              "\n",
              "    .dataframe tbody tr th {\n",
              "        vertical-align: top;\n",
              "    }\n",
              "\n",
              "    .dataframe thead th {\n",
              "        text-align: right;\n",
              "    }\n",
              "</style>\n",
              "<table border=\"1\" class=\"dataframe\">\n",
              "  <thead>\n",
              "    <tr style=\"text-align: right;\">\n",
              "      <th></th>\n",
              "      <th>target</th>\n",
              "      <th>id</th>\n",
              "      <th>date</th>\n",
              "      <th>flag</th>\n",
              "      <th>user</th>\n",
              "      <th>text</th>\n",
              "      <th>stemmed_content</th>\n",
              "    </tr>\n",
              "  </thead>\n",
              "  <tbody>\n",
              "    <tr>\n",
              "      <th>0</th>\n",
              "      <td>0</td>\n",
              "      <td>1467810369</td>\n",
              "      <td>Mon Apr 06 22:19:45 PDT 2009</td>\n",
              "      <td>NO_QUERY</td>\n",
              "      <td>_TheSpecialOne_</td>\n",
              "      <td>@switchfoot http://twitpic.com/2y1zl - Awww, t...</td>\n",
              "      <td>awww bummer shoulda got david carr third day</td>\n",
              "    </tr>\n",
              "    <tr>\n",
              "      <th>1</th>\n",
              "      <td>0</td>\n",
              "      <td>1467810672</td>\n",
              "      <td>Mon Apr 06 22:19:49 PDT 2009</td>\n",
              "      <td>NO_QUERY</td>\n",
              "      <td>scotthamilton</td>\n",
              "      <td>is upset that he can't update his Facebook by ...</td>\n",
              "      <td>upset updat facebook text might cri result sch...</td>\n",
              "    </tr>\n",
              "    <tr>\n",
              "      <th>2</th>\n",
              "      <td>0</td>\n",
              "      <td>1467810917</td>\n",
              "      <td>Mon Apr 06 22:19:53 PDT 2009</td>\n",
              "      <td>NO_QUERY</td>\n",
              "      <td>mattycus</td>\n",
              "      <td>@Kenichan I dived many times for the ball. Man...</td>\n",
              "      <td>dive mani time ball manag save rest go bound</td>\n",
              "    </tr>\n",
              "    <tr>\n",
              "      <th>3</th>\n",
              "      <td>0</td>\n",
              "      <td>1467811184</td>\n",
              "      <td>Mon Apr 06 22:19:57 PDT 2009</td>\n",
              "      <td>NO_QUERY</td>\n",
              "      <td>ElleCTF</td>\n",
              "      <td>my whole body feels itchy and like its on fire</td>\n",
              "      <td>whole bodi feel itchi like fire</td>\n",
              "    </tr>\n",
              "    <tr>\n",
              "      <th>4</th>\n",
              "      <td>0</td>\n",
              "      <td>1467811193</td>\n",
              "      <td>Mon Apr 06 22:19:57 PDT 2009</td>\n",
              "      <td>NO_QUERY</td>\n",
              "      <td>Karoli</td>\n",
              "      <td>@nationwideclass no, it's not behaving at all....</td>\n",
              "      <td>behav mad see</td>\n",
              "    </tr>\n",
              "  </tbody>\n",
              "</table>\n",
              "</div>"
            ],
            "text/plain": [
              "   target          id                          date      flag  \\\n",
              "0       0  1467810369  Mon Apr 06 22:19:45 PDT 2009  NO_QUERY   \n",
              "1       0  1467810672  Mon Apr 06 22:19:49 PDT 2009  NO_QUERY   \n",
              "2       0  1467810917  Mon Apr 06 22:19:53 PDT 2009  NO_QUERY   \n",
              "3       0  1467811184  Mon Apr 06 22:19:57 PDT 2009  NO_QUERY   \n",
              "4       0  1467811193  Mon Apr 06 22:19:57 PDT 2009  NO_QUERY   \n",
              "\n",
              "              user                                               text  \\\n",
              "0  _TheSpecialOne_  @switchfoot http://twitpic.com/2y1zl - Awww, t...   \n",
              "1    scotthamilton  is upset that he can't update his Facebook by ...   \n",
              "2         mattycus  @Kenichan I dived many times for the ball. Man...   \n",
              "3          ElleCTF    my whole body feels itchy and like its on fire    \n",
              "4           Karoli  @nationwideclass no, it's not behaving at all....   \n",
              "\n",
              "                                     stemmed_content  \n",
              "0       awww bummer shoulda got david carr third day  \n",
              "1  upset updat facebook text might cri result sch...  \n",
              "2       dive mani time ball manag save rest go bound  \n",
              "3                    whole bodi feel itchi like fire  \n",
              "4                                      behav mad see  "
            ]
          },
          "execution_count": 23,
          "metadata": {},
          "output_type": "execute_result"
        }
      ],
      "source": [
        "twitter_data.head()"
      ]
    },
    {
      "cell_type": "code",
      "execution_count": 24,
      "id": "9c986e18",
      "metadata": {
        "colab": {
          "base_uri": "https://localhost:8080/"
        },
        "id": "9c986e18",
        "outputId": "3a0e29dc-f6dc-4b44-82b4-f0e8afbfaf1e"
      },
      "outputs": [
        {
          "name": "stdout",
          "output_type": "stream",
          "text": [
            "0               awww bummer shoulda got david carr third day\n",
            "1          upset updat facebook text might cri result sch...\n",
            "2               dive mani time ball manag save rest go bound\n",
            "3                            whole bodi feel itchi like fire\n",
            "4                                              behav mad see\n",
            "                                 ...                        \n",
            "1599995                           woke school best feel ever\n",
            "1599996              thewdb com cool hear old walt interview\n",
            "1599997                         readi mojo makeov ask detail\n",
            "1599998    happi th birthday boo alll time tupac amaru sh...\n",
            "1599999                                 happi charitytuesday\n",
            "Name: stemmed_content, Length: 1600000, dtype: object\n"
          ]
        }
      ],
      "source": [
        "print(twitter_data['stemmed_content'])"
      ]
    },
    {
      "cell_type": "code",
      "execution_count": 25,
      "id": "f06bafae",
      "metadata": {
        "colab": {
          "base_uri": "https://localhost:8080/"
        },
        "id": "f06bafae",
        "outputId": "bef54f0f-62b6-4925-b323-a5072037c14a"
      },
      "outputs": [
        {
          "name": "stdout",
          "output_type": "stream",
          "text": [
            "0          0\n",
            "1          0\n",
            "2          0\n",
            "3          0\n",
            "4          0\n",
            "          ..\n",
            "1599995    1\n",
            "1599996    1\n",
            "1599997    1\n",
            "1599998    1\n",
            "1599999    1\n",
            "Name: target, Length: 1600000, dtype: int64\n"
          ]
        }
      ],
      "source": [
        "print(twitter_data['target'])"
      ]
    },
    {
      "cell_type": "code",
      "execution_count": 26,
      "id": "0e1d39c0",
      "metadata": {
        "id": "0e1d39c0"
      },
      "outputs": [],
      "source": [
        "# Seperating the data and labels\n",
        "X = twitter_data['stemmed_content'].values\n",
        "Y = twitter_data['target'].values"
      ]
    },
    {
      "cell_type": "code",
      "execution_count": 27,
      "id": "842b1b2a",
      "metadata": {
        "colab": {
          "base_uri": "https://localhost:8080/"
        },
        "id": "842b1b2a",
        "outputId": "8f195d0b-ea7f-4254-d90b-de69bc360ea7"
      },
      "outputs": [
        {
          "name": "stdout",
          "output_type": "stream",
          "text": [
            "['awww bummer shoulda got david carr third day'\n",
            " 'upset updat facebook text might cri result school today also blah'\n",
            " 'dive mani time ball manag save rest go bound' ...\n",
            " 'readi mojo makeov ask detail'\n",
            " 'happi th birthday boo alll time tupac amaru shakur'\n",
            " 'happi charitytuesday']\n"
          ]
        }
      ],
      "source": [
        "print(X)"
      ]
    },
    {
      "cell_type": "code",
      "execution_count": 28,
      "id": "ff4fe1bc",
      "metadata": {
        "colab": {
          "base_uri": "https://localhost:8080/"
        },
        "id": "ff4fe1bc",
        "outputId": "1a3c0fca-32f6-44bc-f0c9-55a80e9f65f7"
      },
      "outputs": [
        {
          "name": "stdout",
          "output_type": "stream",
          "text": [
            "[0 0 0 ... 1 1 1]\n"
          ]
        }
      ],
      "source": [
        "print(Y)"
      ]
    },
    {
      "cell_type": "markdown",
      "id": "5187ef24",
      "metadata": {
        "id": "5187ef24"
      },
      "source": [
        "#### Splitting the data to training data and test data"
      ]
    },
    {
      "cell_type": "code",
      "execution_count": 29,
      "id": "48a2a66b",
      "metadata": {
        "id": "48a2a66b"
      },
      "outputs": [],
      "source": [
        "X_train, X_test, Y_train, Y_test = train_test_split(X, Y, test_size=0.2, random_state=42, stratify=Y)"
      ]
    },
    {
      "cell_type": "code",
      "execution_count": 30,
      "id": "05a1660f",
      "metadata": {
        "colab": {
          "base_uri": "https://localhost:8080/"
        },
        "id": "05a1660f",
        "outputId": "5afaf028-7cbb-406b-c6ea-692d6c474b1c"
      },
      "outputs": [
        {
          "name": "stdout",
          "output_type": "stream",
          "text": [
            "(1600000,) (1280000,) (320000,)\n"
          ]
        }
      ],
      "source": [
        "print(X.shape, X_train.shape, X_test.shape)"
      ]
    },
    {
      "cell_type": "code",
      "execution_count": 31,
      "id": "dc07fe13",
      "metadata": {
        "colab": {
          "base_uri": "https://localhost:8080/"
        },
        "id": "dc07fe13",
        "outputId": "4286022f-d5f8-406f-b0d2-6ea05d7250bd"
      },
      "outputs": [
        {
          "name": "stdout",
          "output_type": "stream",
          "text": [
            "['lol get idea far advanc even june yet need third knitter summer group'\n",
            " 'worst headach ever'\n",
            " 'sad wont see miss alreadi yeah perfect come back th' ...\n",
            " 'got home meet talk endlessli one coolest guy ever met smile'\n",
            " 'bought chocol bar quot win free bar quot label win either'\n",
            " 'said hope dm email sunday']\n"
          ]
        }
      ],
      "source": [
        "print(X_train)"
      ]
    },
    {
      "cell_type": "code",
      "execution_count": 32,
      "id": "6b808e6d",
      "metadata": {
        "colab": {
          "base_uri": "https://localhost:8080/"
        },
        "id": "6b808e6d",
        "outputId": "bc35e9f5-42c8-4f02-b40d-db1718474af5"
      },
      "outputs": [
        {
          "name": "stdout",
          "output_type": "stream",
          "text": [
            "['denali ye black red fav color realli want color def look awesom jare'\n",
            " 'qu buy open hous weekend pm best valu one bedroom lic long island citi bd'\n",
            " 'fran greet air okay hahahaha thank' ...\n",
            " 'brat follow also hope atleast get also wish get well soon'\n",
            " 'feel like decent swell sinc last fall hope wave myrtl beach week either least golf'\n",
            " 'relaxin busi day']\n"
          ]
        }
      ],
      "source": [
        "print(X_test)"
      ]
    },
    {
      "cell_type": "code",
      "execution_count": 33,
      "id": "185c4223",
      "metadata": {
        "id": "185c4223"
      },
      "outputs": [],
      "source": [
        "# Converting the textual data into numerical data using TfidfVectorizer\n",
        "vectorizer = TfidfVectorizer()\n",
        "X_train = vectorizer.fit_transform(X_train) # Fit the vectorizer to the training data\n",
        "X_test = vectorizer.transform(X_test) # Transform the test data using the fitted vectorizer"
      ]
    },
    {
      "cell_type": "code",
      "execution_count": 34,
      "id": "8744abb4",
      "metadata": {
        "colab": {
          "base_uri": "https://localhost:8080/"
        },
        "id": "8744abb4",
        "outputId": "a90dee75-2585-43f1-c37e-362b574fef7e"
      },
      "outputs": [
        {
          "name": "stdout",
          "output_type": "stream",
          "text": [
            "  (0, 98792)\t0.17051904120168906\n",
            "  (0, 64373)\t0.14572332638353142\n",
            "  (0, 79248)\t0.25255530889446465\n",
            "  (0, 55266)\t0.24928856075186495\n",
            "  (0, 2298)\t0.35784345197301765\n",
            "  (0, 52847)\t0.20645081729393253\n",
            "  (0, 87763)\t0.27221441240390787\n",
            "  (0, 193205)\t0.22730848915330898\n",
            "  (0, 115754)\t0.1817112572518178\n",
            "  (0, 169113)\t0.3359288166937043\n",
            "  (0, 92019)\t0.4847719750842347\n",
            "  (0, 162212)\t0.23172774423979603\n",
            "  (0, 68678)\t0.30454313380077225\n",
            "  (1, 189972)\t0.6355203097899969\n",
            "  (1, 72560)\t0.5772696016170398\n",
            "  (1, 52899)\t0.5127121442811071\n",
            "  (2, 144466)\t0.28865099313024034\n",
            "  (2, 189149)\t0.39379178215195865\n",
            "  (2, 147941)\t0.257574592184754\n",
            "  (2, 109028)\t0.2513899662426339\n",
            "  (2, 5183)\t0.32846109493604425\n",
            "  (2, 192497)\t0.30474098003303646\n",
            "  (2, 128059)\t0.40965307752304914\n",
            "  (2, 33844)\t0.2731578803992047\n",
            "  (2, 12493)\t0.2513964453493461\n",
            "  :\t:\n",
            "  (1279996, 122088)\t0.5690473360697704\n",
            "  (1279997, 52899)\t0.254529955326331\n",
            "  (1279997, 122365)\t0.19083841056987663\n",
            "  (1279997, 75875)\t0.2049080288342123\n",
            "  (1279997, 69645)\t0.23564227906517551\n",
            "  (1279997, 67272)\t0.18671475038140511\n",
            "  (1279997, 106132)\t0.26804113278216324\n",
            "  (1279997, 165100)\t0.248516701000217\n",
            "  (1279997, 154713)\t0.3023886684035139\n",
            "  (1279997, 107200)\t0.3256268341603279\n",
            "  (1279997, 35288)\t0.40856524851372283\n",
            "  (1279997, 50912)\t0.5180871714128925\n",
            "  (1279998, 136643)\t0.3475774352689452\n",
            "  (1279998, 30859)\t0.2610373385598503\n",
            "  (1279998, 21524)\t0.24921636616027565\n",
            "  (1279998, 49712)\t0.24184217917365983\n",
            "  (1279998, 188040)\t0.4598084627997232\n",
            "  (1279998, 60275)\t0.2290344265308208\n",
            "  (1279998, 13739)\t0.5504439910206812\n",
            "  (1279998, 93859)\t0.35154490371861874\n",
            "  (1279999, 76474)\t0.3249304884596936\n",
            "  (1279999, 44716)\t0.5302033735942602\n",
            "  (1279999, 162457)\t0.43795233855040305\n",
            "  (1279999, 50355)\t0.4824763173924226\n",
            "  (1279999, 144736)\t0.43441790088840715\n"
          ]
        }
      ],
      "source": [
        "print(X_train)"
      ]
    },
    {
      "cell_type": "code",
      "execution_count": 35,
      "id": "9f232b68",
      "metadata": {
        "colab": {
          "base_uri": "https://localhost:8080/"
        },
        "id": "9f232b68",
        "outputId": "3f6ea5e5-163c-4307-d067-f2c1d90c1c43"
      },
      "outputs": [
        {
          "name": "stdout",
          "output_type": "stream",
          "text": [
            "  (0, 11335)\t0.18778881995740343\n",
            "  (0, 18701)\t0.2491836696613244\n",
            "  (0, 33717)\t0.5448343835421826\n",
            "  (0, 41178)\t0.27043912170668244\n",
            "  (0, 41838)\t0.4266094571203387\n",
            "  (0, 55653)\t0.27080471599192785\n",
            "  (0, 84771)\t0.33461198682171117\n",
            "  (0, 99190)\t0.16197101104067438\n",
            "  (0, 138425)\t0.1553670848009902\n",
            "  (0, 138948)\t0.2391304321290182\n",
            "  (0, 184146)\t0.1497084362268776\n",
            "  (0, 192436)\t0.18813694505942702\n",
            "  (1, 14854)\t0.3505018561509464\n",
            "  (1, 15465)\t0.29381567475414516\n",
            "  (1, 16764)\t0.18155441508152442\n",
            "  (1, 25219)\t0.20497670900909926\n",
            "  (1, 31894)\t0.22768170303561294\n",
            "  (1, 77037)\t0.18863062654576518\n",
            "  (1, 83249)\t0.26461200519637645\n",
            "  (1, 96896)\t0.41807723485544074\n",
            "  (1, 99034)\t0.18019245070530565\n",
            "  (1, 122365)\t0.14225874519215773\n",
            "  (1, 123127)\t0.2148125605657706\n",
            "  (1, 131181)\t0.21827114979782927\n",
            "  (1, 136126)\t0.3344477921517163\n",
            "  :\t:\n",
            "  (319997, 22208)\t0.4628057952848841\n",
            "  (319997, 58917)\t0.2277152267678488\n",
            "  (319997, 64373)\t0.32871822177455334\n",
            "  (319997, 76474)\t0.20307502633665492\n",
            "  (319997, 156391)\t0.24386953140486334\n",
            "  (319997, 185780)\t0.20534656925740663\n",
            "  (319997, 188405)\t0.2153680172684739\n",
            "  (319998, 14928)\t0.24242767404921167\n",
            "  (319998, 40902)\t0.31637012669493203\n",
            "  (319998, 49712)\t0.24580678592467342\n",
            "  (319998, 54896)\t0.24826737655780995\n",
            "  (319998, 56112)\t0.1640421512599185\n",
            "  (319998, 66448)\t0.3077547851479715\n",
            "  (319998, 76474)\t0.16825475282383073\n",
            "  (319998, 94925)\t0.17624508852689755\n",
            "  (319998, 95724)\t0.2312437847227395\n",
            "  (319998, 97271)\t0.1463139017449362\n",
            "  (319998, 113895)\t0.40406287248515843\n",
            "  (319998, 152641)\t0.224895800625624\n",
            "  (319998, 163986)\t0.3533906013559026\n",
            "  (319998, 184774)\t0.29949804847857814\n",
            "  (319998, 185492)\t0.18648297838034308\n",
            "  (319999, 24874)\t0.4970966959725389\n",
            "  (319999, 40247)\t0.29593047371412995\n",
            "  (319999, 139742)\t0.8156715206383731\n"
          ]
        }
      ],
      "source": [
        "print(X_test)"
      ]
    },
    {
      "cell_type": "markdown",
      "id": "aad4b962",
      "metadata": {
        "id": "aad4b962"
      },
      "source": [
        "#### Training the Machine Learning Model"
      ]
    },
    {
      "cell_type": "markdown",
      "id": "5298105f",
      "metadata": {
        "id": "5298105f"
      },
      "source": [
        "##### Logistic Regression"
      ]
    },
    {
      "cell_type": "code",
      "execution_count": 36,
      "id": "48837e85",
      "metadata": {
        "id": "48837e85"
      },
      "outputs": [],
      "source": [
        "model = LogisticRegression(max_iter=1000)"
      ]
    },
    {
      "cell_type": "code",
      "execution_count": 37,
      "id": "cd81a06c",
      "metadata": {
        "colab": {
          "base_uri": "https://localhost:8080/",
          "height": 80
        },
        "id": "cd81a06c",
        "outputId": "07f78a85-c8b0-4fd7-e03e-a22e585cc9ac"
      },
      "outputs": [
        {
          "data": {
            "text/html": [
              "<style>#sk-container-id-1 {\n",
              "  /* Definition of color scheme common for light and dark mode */\n",
              "  --sklearn-color-text: black;\n",
              "  --sklearn-color-line: gray;\n",
              "  /* Definition of color scheme for unfitted estimators */\n",
              "  --sklearn-color-unfitted-level-0: #fff5e6;\n",
              "  --sklearn-color-unfitted-level-1: #f6e4d2;\n",
              "  --sklearn-color-unfitted-level-2: #ffe0b3;\n",
              "  --sklearn-color-unfitted-level-3: chocolate;\n",
              "  /* Definition of color scheme for fitted estimators */\n",
              "  --sklearn-color-fitted-level-0: #f0f8ff;\n",
              "  --sklearn-color-fitted-level-1: #d4ebff;\n",
              "  --sklearn-color-fitted-level-2: #b3dbfd;\n",
              "  --sklearn-color-fitted-level-3: cornflowerblue;\n",
              "\n",
              "  /* Specific color for light theme */\n",
              "  --sklearn-color-text-on-default-background: var(--sg-text-color, var(--theme-code-foreground, var(--jp-content-font-color1, black)));\n",
              "  --sklearn-color-background: var(--sg-background-color, var(--theme-background, var(--jp-layout-color0, white)));\n",
              "  --sklearn-color-border-box: var(--sg-text-color, var(--theme-code-foreground, var(--jp-content-font-color1, black)));\n",
              "  --sklearn-color-icon: #696969;\n",
              "\n",
              "  @media (prefers-color-scheme: dark) {\n",
              "    /* Redefinition of color scheme for dark theme */\n",
              "    --sklearn-color-text-on-default-background: var(--sg-text-color, var(--theme-code-foreground, var(--jp-content-font-color1, white)));\n",
              "    --sklearn-color-background: var(--sg-background-color, var(--theme-background, var(--jp-layout-color0, #111)));\n",
              "    --sklearn-color-border-box: var(--sg-text-color, var(--theme-code-foreground, var(--jp-content-font-color1, white)));\n",
              "    --sklearn-color-icon: #878787;\n",
              "  }\n",
              "}\n",
              "\n",
              "#sk-container-id-1 {\n",
              "  color: var(--sklearn-color-text);\n",
              "}\n",
              "\n",
              "#sk-container-id-1 pre {\n",
              "  padding: 0;\n",
              "}\n",
              "\n",
              "#sk-container-id-1 input.sk-hidden--visually {\n",
              "  border: 0;\n",
              "  clip: rect(1px 1px 1px 1px);\n",
              "  clip: rect(1px, 1px, 1px, 1px);\n",
              "  height: 1px;\n",
              "  margin: -1px;\n",
              "  overflow: hidden;\n",
              "  padding: 0;\n",
              "  position: absolute;\n",
              "  width: 1px;\n",
              "}\n",
              "\n",
              "#sk-container-id-1 div.sk-dashed-wrapped {\n",
              "  border: 1px dashed var(--sklearn-color-line);\n",
              "  margin: 0 0.4em 0.5em 0.4em;\n",
              "  box-sizing: border-box;\n",
              "  padding-bottom: 0.4em;\n",
              "  background-color: var(--sklearn-color-background);\n",
              "}\n",
              "\n",
              "#sk-container-id-1 div.sk-container {\n",
              "  /* jupyter's `normalize.less` sets `[hidden] { display: none; }`\n",
              "     but bootstrap.min.css set `[hidden] { display: none !important; }`\n",
              "     so we also need the `!important` here to be able to override the\n",
              "     default hidden behavior on the sphinx rendered scikit-learn.org.\n",
              "     See: https://github.com/scikit-learn/scikit-learn/issues/21755 */\n",
              "  display: inline-block !important;\n",
              "  position: relative;\n",
              "}\n",
              "\n",
              "#sk-container-id-1 div.sk-text-repr-fallback {\n",
              "  display: none;\n",
              "}\n",
              "\n",
              "div.sk-parallel-item,\n",
              "div.sk-serial,\n",
              "div.sk-item {\n",
              "  /* draw centered vertical line to link estimators */\n",
              "  background-image: linear-gradient(var(--sklearn-color-text-on-default-background), var(--sklearn-color-text-on-default-background));\n",
              "  background-size: 2px 100%;\n",
              "  background-repeat: no-repeat;\n",
              "  background-position: center center;\n",
              "}\n",
              "\n",
              "/* Parallel-specific style estimator block */\n",
              "\n",
              "#sk-container-id-1 div.sk-parallel-item::after {\n",
              "  content: \"\";\n",
              "  width: 100%;\n",
              "  border-bottom: 2px solid var(--sklearn-color-text-on-default-background);\n",
              "  flex-grow: 1;\n",
              "}\n",
              "\n",
              "#sk-container-id-1 div.sk-parallel {\n",
              "  display: flex;\n",
              "  align-items: stretch;\n",
              "  justify-content: center;\n",
              "  background-color: var(--sklearn-color-background);\n",
              "  position: relative;\n",
              "}\n",
              "\n",
              "#sk-container-id-1 div.sk-parallel-item {\n",
              "  display: flex;\n",
              "  flex-direction: column;\n",
              "}\n",
              "\n",
              "#sk-container-id-1 div.sk-parallel-item:first-child::after {\n",
              "  align-self: flex-end;\n",
              "  width: 50%;\n",
              "}\n",
              "\n",
              "#sk-container-id-1 div.sk-parallel-item:last-child::after {\n",
              "  align-self: flex-start;\n",
              "  width: 50%;\n",
              "}\n",
              "\n",
              "#sk-container-id-1 div.sk-parallel-item:only-child::after {\n",
              "  width: 0;\n",
              "}\n",
              "\n",
              "/* Serial-specific style estimator block */\n",
              "\n",
              "#sk-container-id-1 div.sk-serial {\n",
              "  display: flex;\n",
              "  flex-direction: column;\n",
              "  align-items: center;\n",
              "  background-color: var(--sklearn-color-background);\n",
              "  padding-right: 1em;\n",
              "  padding-left: 1em;\n",
              "}\n",
              "\n",
              "\n",
              "/* Toggleable style: style used for estimator/Pipeline/ColumnTransformer box that is\n",
              "clickable and can be expanded/collapsed.\n",
              "- Pipeline and ColumnTransformer use this feature and define the default style\n",
              "- Estimators will overwrite some part of the style using the `sk-estimator` class\n",
              "*/\n",
              "\n",
              "/* Pipeline and ColumnTransformer style (default) */\n",
              "\n",
              "#sk-container-id-1 div.sk-toggleable {\n",
              "  /* Default theme specific background. It is overwritten whether we have a\n",
              "  specific estimator or a Pipeline/ColumnTransformer */\n",
              "  background-color: var(--sklearn-color-background);\n",
              "}\n",
              "\n",
              "/* Toggleable label */\n",
              "#sk-container-id-1 label.sk-toggleable__label {\n",
              "  cursor: pointer;\n",
              "  display: block;\n",
              "  width: 100%;\n",
              "  margin-bottom: 0;\n",
              "  padding: 0.5em;\n",
              "  box-sizing: border-box;\n",
              "  text-align: center;\n",
              "}\n",
              "\n",
              "#sk-container-id-1 label.sk-toggleable__label-arrow:before {\n",
              "  /* Arrow on the left of the label */\n",
              "  content: \"▸\";\n",
              "  float: left;\n",
              "  margin-right: 0.25em;\n",
              "  color: var(--sklearn-color-icon);\n",
              "}\n",
              "\n",
              "#sk-container-id-1 label.sk-toggleable__label-arrow:hover:before {\n",
              "  color: var(--sklearn-color-text);\n",
              "}\n",
              "\n",
              "/* Toggleable content - dropdown */\n",
              "\n",
              "#sk-container-id-1 div.sk-toggleable__content {\n",
              "  max-height: 0;\n",
              "  max-width: 0;\n",
              "  overflow: hidden;\n",
              "  text-align: left;\n",
              "  /* unfitted */\n",
              "  background-color: var(--sklearn-color-unfitted-level-0);\n",
              "}\n",
              "\n",
              "#sk-container-id-1 div.sk-toggleable__content.fitted {\n",
              "  /* fitted */\n",
              "  background-color: var(--sklearn-color-fitted-level-0);\n",
              "}\n",
              "\n",
              "#sk-container-id-1 div.sk-toggleable__content pre {\n",
              "  margin: 0.2em;\n",
              "  border-radius: 0.25em;\n",
              "  color: var(--sklearn-color-text);\n",
              "  /* unfitted */\n",
              "  background-color: var(--sklearn-color-unfitted-level-0);\n",
              "}\n",
              "\n",
              "#sk-container-id-1 div.sk-toggleable__content.fitted pre {\n",
              "  /* unfitted */\n",
              "  background-color: var(--sklearn-color-fitted-level-0);\n",
              "}\n",
              "\n",
              "#sk-container-id-1 input.sk-toggleable__control:checked~div.sk-toggleable__content {\n",
              "  /* Expand drop-down */\n",
              "  max-height: 200px;\n",
              "  max-width: 100%;\n",
              "  overflow: auto;\n",
              "}\n",
              "\n",
              "#sk-container-id-1 input.sk-toggleable__control:checked~label.sk-toggleable__label-arrow:before {\n",
              "  content: \"▾\";\n",
              "}\n",
              "\n",
              "/* Pipeline/ColumnTransformer-specific style */\n",
              "\n",
              "#sk-container-id-1 div.sk-label input.sk-toggleable__control:checked~label.sk-toggleable__label {\n",
              "  color: var(--sklearn-color-text);\n",
              "  background-color: var(--sklearn-color-unfitted-level-2);\n",
              "}\n",
              "\n",
              "#sk-container-id-1 div.sk-label.fitted input.sk-toggleable__control:checked~label.sk-toggleable__label {\n",
              "  background-color: var(--sklearn-color-fitted-level-2);\n",
              "}\n",
              "\n",
              "/* Estimator-specific style */\n",
              "\n",
              "/* Colorize estimator box */\n",
              "#sk-container-id-1 div.sk-estimator input.sk-toggleable__control:checked~label.sk-toggleable__label {\n",
              "  /* unfitted */\n",
              "  background-color: var(--sklearn-color-unfitted-level-2);\n",
              "}\n",
              "\n",
              "#sk-container-id-1 div.sk-estimator.fitted input.sk-toggleable__control:checked~label.sk-toggleable__label {\n",
              "  /* fitted */\n",
              "  background-color: var(--sklearn-color-fitted-level-2);\n",
              "}\n",
              "\n",
              "#sk-container-id-1 div.sk-label label.sk-toggleable__label,\n",
              "#sk-container-id-1 div.sk-label label {\n",
              "  /* The background is the default theme color */\n",
              "  color: var(--sklearn-color-text-on-default-background);\n",
              "}\n",
              "\n",
              "/* On hover, darken the color of the background */\n",
              "#sk-container-id-1 div.sk-label:hover label.sk-toggleable__label {\n",
              "  color: var(--sklearn-color-text);\n",
              "  background-color: var(--sklearn-color-unfitted-level-2);\n",
              "}\n",
              "\n",
              "/* Label box, darken color on hover, fitted */\n",
              "#sk-container-id-1 div.sk-label.fitted:hover label.sk-toggleable__label.fitted {\n",
              "  color: var(--sklearn-color-text);\n",
              "  background-color: var(--sklearn-color-fitted-level-2);\n",
              "}\n",
              "\n",
              "/* Estimator label */\n",
              "\n",
              "#sk-container-id-1 div.sk-label label {\n",
              "  font-family: monospace;\n",
              "  font-weight: bold;\n",
              "  display: inline-block;\n",
              "  line-height: 1.2em;\n",
              "}\n",
              "\n",
              "#sk-container-id-1 div.sk-label-container {\n",
              "  text-align: center;\n",
              "}\n",
              "\n",
              "/* Estimator-specific */\n",
              "#sk-container-id-1 div.sk-estimator {\n",
              "  font-family: monospace;\n",
              "  border: 1px dotted var(--sklearn-color-border-box);\n",
              "  border-radius: 0.25em;\n",
              "  box-sizing: border-box;\n",
              "  margin-bottom: 0.5em;\n",
              "  /* unfitted */\n",
              "  background-color: var(--sklearn-color-unfitted-level-0);\n",
              "}\n",
              "\n",
              "#sk-container-id-1 div.sk-estimator.fitted {\n",
              "  /* fitted */\n",
              "  background-color: var(--sklearn-color-fitted-level-0);\n",
              "}\n",
              "\n",
              "/* on hover */\n",
              "#sk-container-id-1 div.sk-estimator:hover {\n",
              "  /* unfitted */\n",
              "  background-color: var(--sklearn-color-unfitted-level-2);\n",
              "}\n",
              "\n",
              "#sk-container-id-1 div.sk-estimator.fitted:hover {\n",
              "  /* fitted */\n",
              "  background-color: var(--sklearn-color-fitted-level-2);\n",
              "}\n",
              "\n",
              "/* Specification for estimator info (e.g. \"i\" and \"?\") */\n",
              "\n",
              "/* Common style for \"i\" and \"?\" */\n",
              "\n",
              ".sk-estimator-doc-link,\n",
              "a:link.sk-estimator-doc-link,\n",
              "a:visited.sk-estimator-doc-link {\n",
              "  float: right;\n",
              "  font-size: smaller;\n",
              "  line-height: 1em;\n",
              "  font-family: monospace;\n",
              "  background-color: var(--sklearn-color-background);\n",
              "  border-radius: 1em;\n",
              "  height: 1em;\n",
              "  width: 1em;\n",
              "  text-decoration: none !important;\n",
              "  margin-left: 1ex;\n",
              "  /* unfitted */\n",
              "  border: var(--sklearn-color-unfitted-level-1) 1pt solid;\n",
              "  color: var(--sklearn-color-unfitted-level-1);\n",
              "}\n",
              "\n",
              ".sk-estimator-doc-link.fitted,\n",
              "a:link.sk-estimator-doc-link.fitted,\n",
              "a:visited.sk-estimator-doc-link.fitted {\n",
              "  /* fitted */\n",
              "  border: var(--sklearn-color-fitted-level-1) 1pt solid;\n",
              "  color: var(--sklearn-color-fitted-level-1);\n",
              "}\n",
              "\n",
              "/* On hover */\n",
              "div.sk-estimator:hover .sk-estimator-doc-link:hover,\n",
              ".sk-estimator-doc-link:hover,\n",
              "div.sk-label-container:hover .sk-estimator-doc-link:hover,\n",
              ".sk-estimator-doc-link:hover {\n",
              "  /* unfitted */\n",
              "  background-color: var(--sklearn-color-unfitted-level-3);\n",
              "  color: var(--sklearn-color-background);\n",
              "  text-decoration: none;\n",
              "}\n",
              "\n",
              "div.sk-estimator.fitted:hover .sk-estimator-doc-link.fitted:hover,\n",
              ".sk-estimator-doc-link.fitted:hover,\n",
              "div.sk-label-container:hover .sk-estimator-doc-link.fitted:hover,\n",
              ".sk-estimator-doc-link.fitted:hover {\n",
              "  /* fitted */\n",
              "  background-color: var(--sklearn-color-fitted-level-3);\n",
              "  color: var(--sklearn-color-background);\n",
              "  text-decoration: none;\n",
              "}\n",
              "\n",
              "/* Span, style for the box shown on hovering the info icon */\n",
              ".sk-estimator-doc-link span {\n",
              "  display: none;\n",
              "  z-index: 9999;\n",
              "  position: relative;\n",
              "  font-weight: normal;\n",
              "  right: .2ex;\n",
              "  padding: .5ex;\n",
              "  margin: .5ex;\n",
              "  width: min-content;\n",
              "  min-width: 20ex;\n",
              "  max-width: 50ex;\n",
              "  color: var(--sklearn-color-text);\n",
              "  box-shadow: 2pt 2pt 4pt #999;\n",
              "  /* unfitted */\n",
              "  background: var(--sklearn-color-unfitted-level-0);\n",
              "  border: .5pt solid var(--sklearn-color-unfitted-level-3);\n",
              "}\n",
              "\n",
              ".sk-estimator-doc-link.fitted span {\n",
              "  /* fitted */\n",
              "  background: var(--sklearn-color-fitted-level-0);\n",
              "  border: var(--sklearn-color-fitted-level-3);\n",
              "}\n",
              "\n",
              ".sk-estimator-doc-link:hover span {\n",
              "  display: block;\n",
              "}\n",
              "\n",
              "/* \"?\"-specific style due to the `<a>` HTML tag */\n",
              "\n",
              "#sk-container-id-1 a.estimator_doc_link {\n",
              "  float: right;\n",
              "  font-size: 1rem;\n",
              "  line-height: 1em;\n",
              "  font-family: monospace;\n",
              "  background-color: var(--sklearn-color-background);\n",
              "  border-radius: 1rem;\n",
              "  height: 1rem;\n",
              "  width: 1rem;\n",
              "  text-decoration: none;\n",
              "  /* unfitted */\n",
              "  color: var(--sklearn-color-unfitted-level-1);\n",
              "  border: var(--sklearn-color-unfitted-level-1) 1pt solid;\n",
              "}\n",
              "\n",
              "#sk-container-id-1 a.estimator_doc_link.fitted {\n",
              "  /* fitted */\n",
              "  border: var(--sklearn-color-fitted-level-1) 1pt solid;\n",
              "  color: var(--sklearn-color-fitted-level-1);\n",
              "}\n",
              "\n",
              "/* On hover */\n",
              "#sk-container-id-1 a.estimator_doc_link:hover {\n",
              "  /* unfitted */\n",
              "  background-color: var(--sklearn-color-unfitted-level-3);\n",
              "  color: var(--sklearn-color-background);\n",
              "  text-decoration: none;\n",
              "}\n",
              "\n",
              "#sk-container-id-1 a.estimator_doc_link.fitted:hover {\n",
              "  /* fitted */\n",
              "  background-color: var(--sklearn-color-fitted-level-3);\n",
              "}\n",
              "</style><div id=\"sk-container-id-1\" class=\"sk-top-container\"><div class=\"sk-text-repr-fallback\"><pre>LogisticRegression(max_iter=1000)</pre><b>In a Jupyter environment, please rerun this cell to show the HTML representation or trust the notebook. <br />On GitHub, the HTML representation is unable to render, please try loading this page with nbviewer.org.</b></div><div class=\"sk-container\" hidden><div class=\"sk-item\"><div class=\"sk-estimator fitted sk-toggleable\"><input class=\"sk-toggleable__control sk-hidden--visually\" id=\"sk-estimator-id-1\" type=\"checkbox\" checked><label for=\"sk-estimator-id-1\" class=\"sk-toggleable__label fitted sk-toggleable__label-arrow fitted\">&nbsp;&nbsp;LogisticRegression<a class=\"sk-estimator-doc-link fitted\" rel=\"noreferrer\" target=\"_blank\" href=\"https://scikit-learn.org/1.5/modules/generated/sklearn.linear_model.LogisticRegression.html\">?<span>Documentation for LogisticRegression</span></a><span class=\"sk-estimator-doc-link fitted\">i<span>Fitted</span></span></label><div class=\"sk-toggleable__content fitted\"><pre>LogisticRegression(max_iter=1000)</pre></div> </div></div></div></div>"
            ],
            "text/plain": [
              "LogisticRegression(max_iter=1000)"
            ]
          },
          "execution_count": 37,
          "metadata": {},
          "output_type": "execute_result"
        }
      ],
      "source": [
        "model.fit(X_train, Y_train)"
      ]
    },
    {
      "cell_type": "markdown",
      "id": "c4c3369c",
      "metadata": {
        "id": "c4c3369c"
      },
      "source": [
        "#### Model Evaluation"
      ]
    },
    {
      "cell_type": "markdown",
      "id": "926b4799",
      "metadata": {
        "id": "926b4799"
      },
      "source": [
        "#### Accuracy Score"
      ]
    },
    {
      "cell_type": "code",
      "execution_count": 38,
      "id": "906428a4",
      "metadata": {
        "id": "906428a4"
      },
      "outputs": [],
      "source": [
        "# Accuracy score on the training data\n",
        "X_train_prediction = model.predict(X_train)\n",
        "training_data_accuracy = accuracy_score(Y_train, X_train_prediction)"
      ]
    },
    {
      "cell_type": "code",
      "execution_count": 39,
      "id": "160b53c6",
      "metadata": {
        "colab": {
          "base_uri": "https://localhost:8080/"
        },
        "id": "160b53c6",
        "outputId": "13e021d2-7d7b-4c53-ca2e-97c43189daf8"
      },
      "outputs": [
        {
          "name": "stdout",
          "output_type": "stream",
          "text": [
            "Accuracy score on the training data:  0.783046875\n"
          ]
        }
      ],
      "source": [
        "print(\"Accuracy score on the training data: \", training_data_accuracy)"
      ]
    },
    {
      "cell_type": "code",
      "execution_count": 40,
      "id": "58b6df8d",
      "metadata": {
        "id": "58b6df8d"
      },
      "outputs": [],
      "source": [
        "# Accuracy score on the test data\n",
        "X_test_prediction = model.predict(X_test)\n",
        "test_data_accuracy = accuracy_score(Y_test, X_test_prediction)"
      ]
    },
    {
      "cell_type": "code",
      "execution_count": 41,
      "id": "cd50d419",
      "metadata": {
        "colab": {
          "base_uri": "https://localhost:8080/"
        },
        "id": "cd50d419",
        "outputId": "099c57ee-8875-4b52-f1f8-489b5a2cb30e"
      },
      "outputs": [
        {
          "name": "stdout",
          "output_type": "stream",
          "text": [
            "Accuracy score on the test data:  0.773665625\n"
          ]
        }
      ],
      "source": [
        "print(\"Accuracy score on the test data: \", test_data_accuracy)"
      ]
    },
    {
      "cell_type": "markdown",
      "id": "70a97ac7",
      "metadata": {},
      "source": [
        "##### Saving The Model"
      ]
    },
    {
      "cell_type": "code",
      "execution_count": 42,
      "id": "07561c39",
      "metadata": {},
      "outputs": [
        {
          "name": "stdout",
          "output_type": "stream",
          "text": [
            "✅ Saved vectorizer → tfidf_vectorizer.joblib\n",
            "✅ Saved model      → sentiment_model.joblib\n"
          ]
        }
      ],
      "source": [
        "import joblib\n",
        "\n",
        "# Dump both your fitted vectorizer and model to disk\n",
        "joblib.dump(vectorizer, 'tfidf_vectorizer.joblib')\n",
        "joblib.dump(model,      'sentiment_model.joblib')\n",
        "\n",
        "print(\"✅ Saved vectorizer → tfidf_vectorizer.joblib\")\n",
        "print(\"✅ Saved model      → sentiment_model.joblib\")"
      ]
    },
    {
      "cell_type": "code",
      "execution_count": 43,
      "id": "2e881549",
      "metadata": {},
      "outputs": [],
      "source": [
        "# Cell: Preprocessing Helper\n",
        "# (Re-use your existing stemmer & regex logic)\n",
        "\n",
        "from nltk.stem.porter import PorterStemmer\n",
        "import re\n",
        "\n",
        "stemmer = PorterStemmer()\n",
        "\n",
        "def preprocess_and_stem(text: str) -> str:\n",
        "    text = text.lower()\n",
        "    text = re.sub(r\"http\\S+|www\\.\\S+|@\\w+|[^a-zA-Z]\", \" \", text)\n",
        "    tokens = text.split()\n",
        "    # (If you removed stopwords earlier, apply that here too)\n",
        "    return \" \".join(stemmer.stem(tok) for tok in tokens)\n"
      ]
    },
    {
      "cell_type": "code",
      "execution_count": 44,
      "id": "2a18db27",
      "metadata": {},
      "outputs": [
        {
          "name": "stdout",
          "output_type": "stream",
          "text": [
            "✅ Loaded vectorizer & model\n",
            "'I had an amazing day!' → Positive\n",
            "'This was the worst experience ever.' → Negative\n"
          ]
        }
      ],
      "source": [
        "# Cell: Load & Predict\n",
        "import joblib\n",
        "\n",
        "# 1) Load saved artifacts\n",
        "vec = joblib.load('tfidf_vectorizer.joblib')\n",
        "mdl = joblib.load('sentiment_model.joblib')\n",
        "print(\"✅ Loaded vectorizer & model\")\n",
        "\n",
        "# 2) Wrap your predict function\n",
        "def predict_sentiment(text: str) -> str:\n",
        "    proc = preprocess_and_stem(text)\n",
        "    feats = vec.transform([proc])\n",
        "    p = mdl.predict(feats)[0]\n",
        "    return \"Positive\" if p == 1 else \"Negative\"\n",
        "\n",
        "# 3) Quick sanity check\n",
        "for sample in [\n",
        "    \"I had an amazing day!\",\n",
        "    \"This was the worst experience ever.\"\n",
        "]:\n",
        "    print(f\"{sample!r} → {predict_sentiment(sample)}\")\n"
      ]
    },
    {
      "cell_type": "markdown",
      "id": "7220bc43",
      "metadata": {},
      "source": [
        "##### Checking Positive or Negative Tweet"
      ]
    },
    {
      "cell_type": "code",
      "execution_count": 45,
      "id": "49b49dba",
      "metadata": {},
      "outputs": [
        {
          "name": "stdout",
          "output_type": "stream",
          "text": [
            "Tweet → Positive\n"
          ]
        }
      ],
      "source": [
        "if __name__ == \"__main__\":\n",
        "    import sys\n",
        "\n",
        "    if len(sys.argv) > 1:\n",
        "        # Pass the tweet text as command-line arguments:\n",
        "        tweet = \" \".join(sys.argv[1:])\n",
        "    else:\n",
        "        # Or be prompted to type one\n",
        "        tweet = input(\"Enter tweet text: \")\n",
        "\n",
        "    print(f\"Tweet → {predict_sentiment(tweet)}\")"
      ]
    }
  ],
  "metadata": {
    "colab": {
      "provenance": []
    },
    "kernelspec": {
      "display_name": "base",
      "language": "python",
      "name": "python3"
    },
    "language_info": {
      "codemirror_mode": {
        "name": "ipython",
        "version": 3
      },
      "file_extension": ".py",
      "mimetype": "text/x-python",
      "name": "python",
      "nbconvert_exporter": "python",
      "pygments_lexer": "ipython3",
      "version": "3.12.7"
    },
    "widgets": {
      "application/vnd.jupyter.widget-state+json": {
        "024a2a60e08d461e8a888899ef0e31da": {
          "model_module": "@jupyter-widgets/base",
          "model_module_version": "1.2.0",
          "model_name": "LayoutModel",
          "state": {
            "_model_module": "@jupyter-widgets/base",
            "_model_module_version": "1.2.0",
            "_model_name": "LayoutModel",
            "_view_count": null,
            "_view_module": "@jupyter-widgets/base",
            "_view_module_version": "1.2.0",
            "_view_name": "LayoutView",
            "align_content": null,
            "align_items": null,
            "align_self": null,
            "border": null,
            "bottom": null,
            "display": null,
            "flex": null,
            "flex_flow": null,
            "grid_area": null,
            "grid_auto_columns": null,
            "grid_auto_flow": null,
            "grid_auto_rows": null,
            "grid_column": null,
            "grid_gap": null,
            "grid_row": null,
            "grid_template_areas": null,
            "grid_template_columns": null,
            "grid_template_rows": null,
            "height": null,
            "justify_content": null,
            "justify_items": null,
            "left": null,
            "margin": null,
            "max_height": null,
            "max_width": null,
            "min_height": null,
            "min_width": null,
            "object_fit": null,
            "object_position": null,
            "order": null,
            "overflow": null,
            "overflow_x": null,
            "overflow_y": null,
            "padding": null,
            "right": null,
            "top": null,
            "visibility": null,
            "width": null
          }
        },
        "0345f5cd444346eebb84aa156cde1d81": {
          "model_module": "@jupyter-widgets/controls",
          "model_module_version": "1.5.0",
          "model_name": "HTMLModel",
          "state": {
            "_dom_classes": [],
            "_model_module": "@jupyter-widgets/controls",
            "_model_module_version": "1.5.0",
            "_model_name": "HTMLModel",
            "_view_count": null,
            "_view_module": "@jupyter-widgets/controls",
            "_view_module_version": "1.5.0",
            "_view_name": "HTMLView",
            "description": "",
            "description_tooltip": null,
            "layout": "IPY_MODEL_2394adfafc3646f78ec45190f188b431",
            "placeholder": "​",
            "style": "IPY_MODEL_6eb7dfd0b6f8443dad1d72b5dd097b57",
            "value": " 232k/232k [00:00&lt;00:00, 3.38MB/s]"
          }
        },
        "044435132b8d43baba0b2820c8cba7d8": {
          "model_module": "@jupyter-widgets/base",
          "model_module_version": "1.2.0",
          "model_name": "LayoutModel",
          "state": {
            "_model_module": "@jupyter-widgets/base",
            "_model_module_version": "1.2.0",
            "_model_name": "LayoutModel",
            "_view_count": null,
            "_view_module": "@jupyter-widgets/base",
            "_view_module_version": "1.2.0",
            "_view_name": "LayoutView",
            "align_content": null,
            "align_items": null,
            "align_self": null,
            "border": null,
            "bottom": null,
            "display": null,
            "flex": null,
            "flex_flow": null,
            "grid_area": null,
            "grid_auto_columns": null,
            "grid_auto_flow": null,
            "grid_auto_rows": null,
            "grid_column": null,
            "grid_gap": null,
            "grid_row": null,
            "grid_template_areas": null,
            "grid_template_columns": null,
            "grid_template_rows": null,
            "height": null,
            "justify_content": null,
            "justify_items": null,
            "left": null,
            "margin": null,
            "max_height": null,
            "max_width": null,
            "min_height": null,
            "min_width": null,
            "object_fit": null,
            "object_position": null,
            "order": null,
            "overflow": null,
            "overflow_x": null,
            "overflow_y": null,
            "padding": null,
            "right": null,
            "top": null,
            "visibility": null,
            "width": null
          }
        },
        "0c5498150fa24118828b85bd0cb61331": {
          "model_module": "@jupyter-widgets/base",
          "model_module_version": "1.2.0",
          "model_name": "LayoutModel",
          "state": {
            "_model_module": "@jupyter-widgets/base",
            "_model_module_version": "1.2.0",
            "_model_name": "LayoutModel",
            "_view_count": null,
            "_view_module": "@jupyter-widgets/base",
            "_view_module_version": "1.2.0",
            "_view_name": "LayoutView",
            "align_content": null,
            "align_items": null,
            "align_self": null,
            "border": null,
            "bottom": null,
            "display": null,
            "flex": null,
            "flex_flow": null,
            "grid_area": null,
            "grid_auto_columns": null,
            "grid_auto_flow": null,
            "grid_auto_rows": null,
            "grid_column": null,
            "grid_gap": null,
            "grid_row": null,
            "grid_template_areas": null,
            "grid_template_columns": null,
            "grid_template_rows": null,
            "height": null,
            "justify_content": null,
            "justify_items": null,
            "left": null,
            "margin": null,
            "max_height": null,
            "max_width": null,
            "min_height": null,
            "min_width": null,
            "object_fit": null,
            "object_position": null,
            "order": null,
            "overflow": null,
            "overflow_x": null,
            "overflow_y": null,
            "padding": null,
            "right": null,
            "top": null,
            "visibility": null,
            "width": null
          }
        },
        "125ce8d342c04e70b7781764d96bdce9": {
          "model_module": "@jupyter-widgets/base",
          "model_module_version": "1.2.0",
          "model_name": "LayoutModel",
          "state": {
            "_model_module": "@jupyter-widgets/base",
            "_model_module_version": "1.2.0",
            "_model_name": "LayoutModel",
            "_view_count": null,
            "_view_module": "@jupyter-widgets/base",
            "_view_module_version": "1.2.0",
            "_view_name": "LayoutView",
            "align_content": null,
            "align_items": null,
            "align_self": null,
            "border": null,
            "bottom": null,
            "display": null,
            "flex": null,
            "flex_flow": null,
            "grid_area": null,
            "grid_auto_columns": null,
            "grid_auto_flow": null,
            "grid_auto_rows": null,
            "grid_column": null,
            "grid_gap": null,
            "grid_row": null,
            "grid_template_areas": null,
            "grid_template_columns": null,
            "grid_template_rows": null,
            "height": null,
            "justify_content": null,
            "justify_items": null,
            "left": null,
            "margin": null,
            "max_height": null,
            "max_width": null,
            "min_height": null,
            "min_width": null,
            "object_fit": null,
            "object_position": null,
            "order": null,
            "overflow": null,
            "overflow_x": null,
            "overflow_y": null,
            "padding": null,
            "right": null,
            "top": null,
            "visibility": null,
            "width": null
          }
        },
        "18c56bd0fba24675ab50d9776ad5bda1": {
          "model_module": "@jupyter-widgets/base",
          "model_module_version": "1.2.0",
          "model_name": "LayoutModel",
          "state": {
            "_model_module": "@jupyter-widgets/base",
            "_model_module_version": "1.2.0",
            "_model_name": "LayoutModel",
            "_view_count": null,
            "_view_module": "@jupyter-widgets/base",
            "_view_module_version": "1.2.0",
            "_view_name": "LayoutView",
            "align_content": null,
            "align_items": null,
            "align_self": null,
            "border": null,
            "bottom": null,
            "display": null,
            "flex": null,
            "flex_flow": null,
            "grid_area": null,
            "grid_auto_columns": null,
            "grid_auto_flow": null,
            "grid_auto_rows": null,
            "grid_column": null,
            "grid_gap": null,
            "grid_row": null,
            "grid_template_areas": null,
            "grid_template_columns": null,
            "grid_template_rows": null,
            "height": null,
            "justify_content": null,
            "justify_items": null,
            "left": null,
            "margin": null,
            "max_height": null,
            "max_width": null,
            "min_height": null,
            "min_width": null,
            "object_fit": null,
            "object_position": null,
            "order": null,
            "overflow": null,
            "overflow_x": null,
            "overflow_y": null,
            "padding": null,
            "right": null,
            "top": null,
            "visibility": null,
            "width": null
          }
        },
        "1be704cca1bc4e52a212f6f8080788ab": {
          "model_module": "@jupyter-widgets/controls",
          "model_module_version": "1.5.0",
          "model_name": "ProgressStyleModel",
          "state": {
            "_model_module": "@jupyter-widgets/controls",
            "_model_module_version": "1.5.0",
            "_model_name": "ProgressStyleModel",
            "_view_count": null,
            "_view_module": "@jupyter-widgets/base",
            "_view_module_version": "1.2.0",
            "_view_name": "StyleView",
            "bar_color": null,
            "description_width": ""
          }
        },
        "22b15a6fc4754bcf85c5eb3939f7b4b1": {
          "model_module": "@jupyter-widgets/base",
          "model_module_version": "1.2.0",
          "model_name": "LayoutModel",
          "state": {
            "_model_module": "@jupyter-widgets/base",
            "_model_module_version": "1.2.0",
            "_model_name": "LayoutModel",
            "_view_count": null,
            "_view_module": "@jupyter-widgets/base",
            "_view_module_version": "1.2.0",
            "_view_name": "LayoutView",
            "align_content": null,
            "align_items": null,
            "align_self": null,
            "border": null,
            "bottom": null,
            "display": null,
            "flex": null,
            "flex_flow": null,
            "grid_area": null,
            "grid_auto_columns": null,
            "grid_auto_flow": null,
            "grid_auto_rows": null,
            "grid_column": null,
            "grid_gap": null,
            "grid_row": null,
            "grid_template_areas": null,
            "grid_template_columns": null,
            "grid_template_rows": null,
            "height": null,
            "justify_content": null,
            "justify_items": null,
            "left": null,
            "margin": null,
            "max_height": null,
            "max_width": null,
            "min_height": null,
            "min_width": null,
            "object_fit": null,
            "object_position": null,
            "order": null,
            "overflow": null,
            "overflow_x": null,
            "overflow_y": null,
            "padding": null,
            "right": null,
            "top": null,
            "visibility": null,
            "width": null
          }
        },
        "2394adfafc3646f78ec45190f188b431": {
          "model_module": "@jupyter-widgets/base",
          "model_module_version": "1.2.0",
          "model_name": "LayoutModel",
          "state": {
            "_model_module": "@jupyter-widgets/base",
            "_model_module_version": "1.2.0",
            "_model_name": "LayoutModel",
            "_view_count": null,
            "_view_module": "@jupyter-widgets/base",
            "_view_module_version": "1.2.0",
            "_view_name": "LayoutView",
            "align_content": null,
            "align_items": null,
            "align_self": null,
            "border": null,
            "bottom": null,
            "display": null,
            "flex": null,
            "flex_flow": null,
            "grid_area": null,
            "grid_auto_columns": null,
            "grid_auto_flow": null,
            "grid_auto_rows": null,
            "grid_column": null,
            "grid_gap": null,
            "grid_row": null,
            "grid_template_areas": null,
            "grid_template_columns": null,
            "grid_template_rows": null,
            "height": null,
            "justify_content": null,
            "justify_items": null,
            "left": null,
            "margin": null,
            "max_height": null,
            "max_width": null,
            "min_height": null,
            "min_width": null,
            "object_fit": null,
            "object_position": null,
            "order": null,
            "overflow": null,
            "overflow_x": null,
            "overflow_y": null,
            "padding": null,
            "right": null,
            "top": null,
            "visibility": null,
            "width": null
          }
        },
        "24b05d33273242b0b31a70b3e62bca95": {
          "model_module": "@jupyter-widgets/controls",
          "model_module_version": "1.5.0",
          "model_name": "DescriptionStyleModel",
          "state": {
            "_model_module": "@jupyter-widgets/controls",
            "_model_module_version": "1.5.0",
            "_model_name": "DescriptionStyleModel",
            "_view_count": null,
            "_view_module": "@jupyter-widgets/base",
            "_view_module_version": "1.2.0",
            "_view_name": "StyleView",
            "description_width": ""
          }
        },
        "26e2febacb784e8ea2817c16827c7a29": {
          "model_module": "@jupyter-widgets/controls",
          "model_module_version": "1.5.0",
          "model_name": "ProgressStyleModel",
          "state": {
            "_model_module": "@jupyter-widgets/controls",
            "_model_module_version": "1.5.0",
            "_model_name": "ProgressStyleModel",
            "_view_count": null,
            "_view_module": "@jupyter-widgets/base",
            "_view_module_version": "1.2.0",
            "_view_name": "StyleView",
            "bar_color": null,
            "description_width": ""
          }
        },
        "2c7154ed34a24cc596639c7bdd741ac0": {
          "model_module": "@jupyter-widgets/controls",
          "model_module_version": "1.5.0",
          "model_name": "DescriptionStyleModel",
          "state": {
            "_model_module": "@jupyter-widgets/controls",
            "_model_module_version": "1.5.0",
            "_model_name": "DescriptionStyleModel",
            "_view_count": null,
            "_view_module": "@jupyter-widgets/base",
            "_view_module_version": "1.2.0",
            "_view_name": "StyleView",
            "description_width": ""
          }
        },
        "388dba3f7b644600ad168506fefba849": {
          "model_module": "@jupyter-widgets/controls",
          "model_module_version": "1.5.0",
          "model_name": "HTMLModel",
          "state": {
            "_dom_classes": [],
            "_model_module": "@jupyter-widgets/controls",
            "_model_module_version": "1.5.0",
            "_model_name": "HTMLModel",
            "_view_count": null,
            "_view_module": "@jupyter-widgets/controls",
            "_view_module_version": "1.5.0",
            "_view_name": "HTMLView",
            "description": "",
            "description_tooltip": null,
            "layout": "IPY_MODEL_024a2a60e08d461e8a888899ef0e31da",
            "placeholder": "​",
            "style": "IPY_MODEL_aa8502a15c8d4c23ad74f3fd43f75a0d",
            "value": " 48.0/48.0 [00:00&lt;00:00, 3.67kB/s]"
          }
        },
        "39139d66c724423585cca50d3662b9a2": {
          "model_module": "@jupyter-widgets/controls",
          "model_module_version": "1.5.0",
          "model_name": "HTMLModel",
          "state": {
            "_dom_classes": [],
            "_model_module": "@jupyter-widgets/controls",
            "_model_module_version": "1.5.0",
            "_model_name": "HTMLModel",
            "_view_count": null,
            "_view_module": "@jupyter-widgets/controls",
            "_view_module_version": "1.5.0",
            "_view_name": "HTMLView",
            "description": "",
            "description_tooltip": null,
            "layout": "IPY_MODEL_63404c16cc7741548b47d465f507e9b3",
            "placeholder": "​",
            "style": "IPY_MODEL_24b05d33273242b0b31a70b3e62bca95",
            "value": "vocab.txt: 100%"
          }
        },
        "3b458766f40c48ceb5e15d26b8305e49": {
          "model_module": "@jupyter-widgets/controls",
          "model_module_version": "1.5.0",
          "model_name": "HBoxModel",
          "state": {
            "_dom_classes": [],
            "_model_module": "@jupyter-widgets/controls",
            "_model_module_version": "1.5.0",
            "_model_name": "HBoxModel",
            "_view_count": null,
            "_view_module": "@jupyter-widgets/controls",
            "_view_module_version": "1.5.0",
            "_view_name": "HBoxView",
            "box_style": "",
            "children": [
              "IPY_MODEL_39139d66c724423585cca50d3662b9a2",
              "IPY_MODEL_6516f6f3946145d2a929557b343d030e",
              "IPY_MODEL_0345f5cd444346eebb84aa156cde1d81"
            ],
            "layout": "IPY_MODEL_cb7551243343417fb38e464cf7998d1f"
          }
        },
        "43ab06e1f179462ca71209d94866db33": {
          "model_module": "@jupyter-widgets/base",
          "model_module_version": "1.2.0",
          "model_name": "LayoutModel",
          "state": {
            "_model_module": "@jupyter-widgets/base",
            "_model_module_version": "1.2.0",
            "_model_name": "LayoutModel",
            "_view_count": null,
            "_view_module": "@jupyter-widgets/base",
            "_view_module_version": "1.2.0",
            "_view_name": "LayoutView",
            "align_content": null,
            "align_items": null,
            "align_self": null,
            "border": null,
            "bottom": null,
            "display": null,
            "flex": null,
            "flex_flow": null,
            "grid_area": null,
            "grid_auto_columns": null,
            "grid_auto_flow": null,
            "grid_auto_rows": null,
            "grid_column": null,
            "grid_gap": null,
            "grid_row": null,
            "grid_template_areas": null,
            "grid_template_columns": null,
            "grid_template_rows": null,
            "height": null,
            "justify_content": null,
            "justify_items": null,
            "left": null,
            "margin": null,
            "max_height": null,
            "max_width": null,
            "min_height": null,
            "min_width": null,
            "object_fit": null,
            "object_position": null,
            "order": null,
            "overflow": null,
            "overflow_x": null,
            "overflow_y": null,
            "padding": null,
            "right": null,
            "top": null,
            "visibility": null,
            "width": null
          }
        },
        "53da09303b8d4d509ba0bcb69b04b8b4": {
          "model_module": "@jupyter-widgets/base",
          "model_module_version": "1.2.0",
          "model_name": "LayoutModel",
          "state": {
            "_model_module": "@jupyter-widgets/base",
            "_model_module_version": "1.2.0",
            "_model_name": "LayoutModel",
            "_view_count": null,
            "_view_module": "@jupyter-widgets/base",
            "_view_module_version": "1.2.0",
            "_view_name": "LayoutView",
            "align_content": null,
            "align_items": null,
            "align_self": null,
            "border": null,
            "bottom": null,
            "display": null,
            "flex": null,
            "flex_flow": null,
            "grid_area": null,
            "grid_auto_columns": null,
            "grid_auto_flow": null,
            "grid_auto_rows": null,
            "grid_column": null,
            "grid_gap": null,
            "grid_row": null,
            "grid_template_areas": null,
            "grid_template_columns": null,
            "grid_template_rows": null,
            "height": null,
            "justify_content": null,
            "justify_items": null,
            "left": null,
            "margin": null,
            "max_height": null,
            "max_width": null,
            "min_height": null,
            "min_width": null,
            "object_fit": null,
            "object_position": null,
            "order": null,
            "overflow": null,
            "overflow_x": null,
            "overflow_y": null,
            "padding": null,
            "right": null,
            "top": null,
            "visibility": null,
            "width": null
          }
        },
        "55268af546ca4c4f8555383160359deb": {
          "model_module": "@jupyter-widgets/controls",
          "model_module_version": "1.5.0",
          "model_name": "DescriptionStyleModel",
          "state": {
            "_model_module": "@jupyter-widgets/controls",
            "_model_module_version": "1.5.0",
            "_model_name": "DescriptionStyleModel",
            "_view_count": null,
            "_view_module": "@jupyter-widgets/base",
            "_view_module_version": "1.2.0",
            "_view_name": "StyleView",
            "description_width": ""
          }
        },
        "5a2254be1ce94fb6b37145e0c69c3a77": {
          "model_module": "@jupyter-widgets/controls",
          "model_module_version": "1.5.0",
          "model_name": "HTMLModel",
          "state": {
            "_dom_classes": [],
            "_model_module": "@jupyter-widgets/controls",
            "_model_module_version": "1.5.0",
            "_model_name": "HTMLModel",
            "_view_count": null,
            "_view_module": "@jupyter-widgets/controls",
            "_view_module_version": "1.5.0",
            "_view_name": "HTMLView",
            "description": "",
            "description_tooltip": null,
            "layout": "IPY_MODEL_60d815b2aa5c4cea946cf6a6640adeec",
            "placeholder": "​",
            "style": "IPY_MODEL_2c7154ed34a24cc596639c7bdd741ac0",
            "value": "tokenizer_config.json: 100%"
          }
        },
        "5b90aca1dbae462cb8a0291cf0b5f571": {
          "model_module": "@jupyter-widgets/controls",
          "model_module_version": "1.5.0",
          "model_name": "ProgressStyleModel",
          "state": {
            "_model_module": "@jupyter-widgets/controls",
            "_model_module_version": "1.5.0",
            "_model_name": "ProgressStyleModel",
            "_view_count": null,
            "_view_module": "@jupyter-widgets/base",
            "_view_module_version": "1.2.0",
            "_view_name": "StyleView",
            "bar_color": null,
            "description_width": ""
          }
        },
        "5d75b90515fc44599a9441cf059359e4": {
          "model_module": "@jupyter-widgets/controls",
          "model_module_version": "1.5.0",
          "model_name": "ProgressStyleModel",
          "state": {
            "_model_module": "@jupyter-widgets/controls",
            "_model_module_version": "1.5.0",
            "_model_name": "ProgressStyleModel",
            "_view_count": null,
            "_view_module": "@jupyter-widgets/base",
            "_view_module_version": "1.2.0",
            "_view_name": "StyleView",
            "bar_color": null,
            "description_width": ""
          }
        },
        "60d815b2aa5c4cea946cf6a6640adeec": {
          "model_module": "@jupyter-widgets/base",
          "model_module_version": "1.2.0",
          "model_name": "LayoutModel",
          "state": {
            "_model_module": "@jupyter-widgets/base",
            "_model_module_version": "1.2.0",
            "_model_name": "LayoutModel",
            "_view_count": null,
            "_view_module": "@jupyter-widgets/base",
            "_view_module_version": "1.2.0",
            "_view_name": "LayoutView",
            "align_content": null,
            "align_items": null,
            "align_self": null,
            "border": null,
            "bottom": null,
            "display": null,
            "flex": null,
            "flex_flow": null,
            "grid_area": null,
            "grid_auto_columns": null,
            "grid_auto_flow": null,
            "grid_auto_rows": null,
            "grid_column": null,
            "grid_gap": null,
            "grid_row": null,
            "grid_template_areas": null,
            "grid_template_columns": null,
            "grid_template_rows": null,
            "height": null,
            "justify_content": null,
            "justify_items": null,
            "left": null,
            "margin": null,
            "max_height": null,
            "max_width": null,
            "min_height": null,
            "min_width": null,
            "object_fit": null,
            "object_position": null,
            "order": null,
            "overflow": null,
            "overflow_x": null,
            "overflow_y": null,
            "padding": null,
            "right": null,
            "top": null,
            "visibility": null,
            "width": null
          }
        },
        "63404c16cc7741548b47d465f507e9b3": {
          "model_module": "@jupyter-widgets/base",
          "model_module_version": "1.2.0",
          "model_name": "LayoutModel",
          "state": {
            "_model_module": "@jupyter-widgets/base",
            "_model_module_version": "1.2.0",
            "_model_name": "LayoutModel",
            "_view_count": null,
            "_view_module": "@jupyter-widgets/base",
            "_view_module_version": "1.2.0",
            "_view_name": "LayoutView",
            "align_content": null,
            "align_items": null,
            "align_self": null,
            "border": null,
            "bottom": null,
            "display": null,
            "flex": null,
            "flex_flow": null,
            "grid_area": null,
            "grid_auto_columns": null,
            "grid_auto_flow": null,
            "grid_auto_rows": null,
            "grid_column": null,
            "grid_gap": null,
            "grid_row": null,
            "grid_template_areas": null,
            "grid_template_columns": null,
            "grid_template_rows": null,
            "height": null,
            "justify_content": null,
            "justify_items": null,
            "left": null,
            "margin": null,
            "max_height": null,
            "max_width": null,
            "min_height": null,
            "min_width": null,
            "object_fit": null,
            "object_position": null,
            "order": null,
            "overflow": null,
            "overflow_x": null,
            "overflow_y": null,
            "padding": null,
            "right": null,
            "top": null,
            "visibility": null,
            "width": null
          }
        },
        "6516f6f3946145d2a929557b343d030e": {
          "model_module": "@jupyter-widgets/controls",
          "model_module_version": "1.5.0",
          "model_name": "FloatProgressModel",
          "state": {
            "_dom_classes": [],
            "_model_module": "@jupyter-widgets/controls",
            "_model_module_version": "1.5.0",
            "_model_name": "FloatProgressModel",
            "_view_count": null,
            "_view_module": "@jupyter-widgets/controls",
            "_view_module_version": "1.5.0",
            "_view_name": "ProgressView",
            "bar_style": "success",
            "description": "",
            "description_tooltip": null,
            "layout": "IPY_MODEL_cbde1fe3bb5e4937a02cedd4be1655a4",
            "max": 231508,
            "min": 0,
            "orientation": "horizontal",
            "style": "IPY_MODEL_5d75b90515fc44599a9441cf059359e4",
            "value": 231508
          }
        },
        "662493d099834a8a930077481ad2bc47": {
          "model_module": "@jupyter-widgets/base",
          "model_module_version": "1.2.0",
          "model_name": "LayoutModel",
          "state": {
            "_model_module": "@jupyter-widgets/base",
            "_model_module_version": "1.2.0",
            "_model_name": "LayoutModel",
            "_view_count": null,
            "_view_module": "@jupyter-widgets/base",
            "_view_module_version": "1.2.0",
            "_view_name": "LayoutView",
            "align_content": null,
            "align_items": null,
            "align_self": null,
            "border": null,
            "bottom": null,
            "display": null,
            "flex": null,
            "flex_flow": null,
            "grid_area": null,
            "grid_auto_columns": null,
            "grid_auto_flow": null,
            "grid_auto_rows": null,
            "grid_column": null,
            "grid_gap": null,
            "grid_row": null,
            "grid_template_areas": null,
            "grid_template_columns": null,
            "grid_template_rows": null,
            "height": null,
            "justify_content": null,
            "justify_items": null,
            "left": null,
            "margin": null,
            "max_height": null,
            "max_width": null,
            "min_height": null,
            "min_width": null,
            "object_fit": null,
            "object_position": null,
            "order": null,
            "overflow": null,
            "overflow_x": null,
            "overflow_y": null,
            "padding": null,
            "right": null,
            "top": null,
            "visibility": null,
            "width": null
          }
        },
        "6eb303bce09940ad9236edfd2bac66af": {
          "model_module": "@jupyter-widgets/base",
          "model_module_version": "1.2.0",
          "model_name": "LayoutModel",
          "state": {
            "_model_module": "@jupyter-widgets/base",
            "_model_module_version": "1.2.0",
            "_model_name": "LayoutModel",
            "_view_count": null,
            "_view_module": "@jupyter-widgets/base",
            "_view_module_version": "1.2.0",
            "_view_name": "LayoutView",
            "align_content": null,
            "align_items": null,
            "align_self": null,
            "border": null,
            "bottom": null,
            "display": null,
            "flex": null,
            "flex_flow": null,
            "grid_area": null,
            "grid_auto_columns": null,
            "grid_auto_flow": null,
            "grid_auto_rows": null,
            "grid_column": null,
            "grid_gap": null,
            "grid_row": null,
            "grid_template_areas": null,
            "grid_template_columns": null,
            "grid_template_rows": null,
            "height": null,
            "justify_content": null,
            "justify_items": null,
            "left": null,
            "margin": null,
            "max_height": null,
            "max_width": null,
            "min_height": null,
            "min_width": null,
            "object_fit": null,
            "object_position": null,
            "order": null,
            "overflow": null,
            "overflow_x": null,
            "overflow_y": null,
            "padding": null,
            "right": null,
            "top": null,
            "visibility": null,
            "width": null
          }
        },
        "6eb7dfd0b6f8443dad1d72b5dd097b57": {
          "model_module": "@jupyter-widgets/controls",
          "model_module_version": "1.5.0",
          "model_name": "DescriptionStyleModel",
          "state": {
            "_model_module": "@jupyter-widgets/controls",
            "_model_module_version": "1.5.0",
            "_model_name": "DescriptionStyleModel",
            "_view_count": null,
            "_view_module": "@jupyter-widgets/base",
            "_view_module_version": "1.2.0",
            "_view_name": "StyleView",
            "description_width": ""
          }
        },
        "7494aaba47e344bb80699aef8099db38": {
          "model_module": "@jupyter-widgets/base",
          "model_module_version": "1.2.0",
          "model_name": "LayoutModel",
          "state": {
            "_model_module": "@jupyter-widgets/base",
            "_model_module_version": "1.2.0",
            "_model_name": "LayoutModel",
            "_view_count": null,
            "_view_module": "@jupyter-widgets/base",
            "_view_module_version": "1.2.0",
            "_view_name": "LayoutView",
            "align_content": null,
            "align_items": null,
            "align_self": null,
            "border": null,
            "bottom": null,
            "display": null,
            "flex": null,
            "flex_flow": null,
            "grid_area": null,
            "grid_auto_columns": null,
            "grid_auto_flow": null,
            "grid_auto_rows": null,
            "grid_column": null,
            "grid_gap": null,
            "grid_row": null,
            "grid_template_areas": null,
            "grid_template_columns": null,
            "grid_template_rows": null,
            "height": null,
            "justify_content": null,
            "justify_items": null,
            "left": null,
            "margin": null,
            "max_height": null,
            "max_width": null,
            "min_height": null,
            "min_width": null,
            "object_fit": null,
            "object_position": null,
            "order": null,
            "overflow": null,
            "overflow_x": null,
            "overflow_y": null,
            "padding": null,
            "right": null,
            "top": null,
            "visibility": null,
            "width": null
          }
        },
        "75a64cc98fb94d70b853e2c77235ec99": {
          "model_module": "@jupyter-widgets/base",
          "model_module_version": "1.2.0",
          "model_name": "LayoutModel",
          "state": {
            "_model_module": "@jupyter-widgets/base",
            "_model_module_version": "1.2.0",
            "_model_name": "LayoutModel",
            "_view_count": null,
            "_view_module": "@jupyter-widgets/base",
            "_view_module_version": "1.2.0",
            "_view_name": "LayoutView",
            "align_content": null,
            "align_items": null,
            "align_self": null,
            "border": null,
            "bottom": null,
            "display": null,
            "flex": null,
            "flex_flow": null,
            "grid_area": null,
            "grid_auto_columns": null,
            "grid_auto_flow": null,
            "grid_auto_rows": null,
            "grid_column": null,
            "grid_gap": null,
            "grid_row": null,
            "grid_template_areas": null,
            "grid_template_columns": null,
            "grid_template_rows": null,
            "height": null,
            "justify_content": null,
            "justify_items": null,
            "left": null,
            "margin": null,
            "max_height": null,
            "max_width": null,
            "min_height": null,
            "min_width": null,
            "object_fit": null,
            "object_position": null,
            "order": null,
            "overflow": null,
            "overflow_x": null,
            "overflow_y": null,
            "padding": null,
            "right": null,
            "top": null,
            "visibility": null,
            "width": null
          }
        },
        "7f1ac1959c3048bab0b7102686a47a67": {
          "model_module": "@jupyter-widgets/controls",
          "model_module_version": "1.5.0",
          "model_name": "HTMLModel",
          "state": {
            "_dom_classes": [],
            "_model_module": "@jupyter-widgets/controls",
            "_model_module_version": "1.5.0",
            "_model_name": "HTMLModel",
            "_view_count": null,
            "_view_module": "@jupyter-widgets/controls",
            "_view_module_version": "1.5.0",
            "_view_name": "HTMLView",
            "description": "",
            "description_tooltip": null,
            "layout": "IPY_MODEL_044435132b8d43baba0b2820c8cba7d8",
            "placeholder": "​",
            "style": "IPY_MODEL_89cd86be1b7746a0b8b4c3d02335c740",
            "value": "model.safetensors: 100%"
          }
        },
        "85b78b716f1c4859bdc95f26c012a09b": {
          "model_module": "@jupyter-widgets/controls",
          "model_module_version": "1.5.0",
          "model_name": "HTMLModel",
          "state": {
            "_dom_classes": [],
            "_model_module": "@jupyter-widgets/controls",
            "_model_module_version": "1.5.0",
            "_model_name": "HTMLModel",
            "_view_count": null,
            "_view_module": "@jupyter-widgets/controls",
            "_view_module_version": "1.5.0",
            "_view_name": "HTMLView",
            "description": "",
            "description_tooltip": null,
            "layout": "IPY_MODEL_75a64cc98fb94d70b853e2c77235ec99",
            "placeholder": "​",
            "style": "IPY_MODEL_55268af546ca4c4f8555383160359deb",
            "value": " 440M/440M [00:06&lt;00:00, 90.8MB/s]"
          }
        },
        "89cd86be1b7746a0b8b4c3d02335c740": {
          "model_module": "@jupyter-widgets/controls",
          "model_module_version": "1.5.0",
          "model_name": "DescriptionStyleModel",
          "state": {
            "_model_module": "@jupyter-widgets/controls",
            "_model_module_version": "1.5.0",
            "_model_name": "DescriptionStyleModel",
            "_view_count": null,
            "_view_module": "@jupyter-widgets/base",
            "_view_module_version": "1.2.0",
            "_view_name": "StyleView",
            "description_width": ""
          }
        },
        "8e27337584ba4a8ca28af0c22ee4c3f7": {
          "model_module": "@jupyter-widgets/controls",
          "model_module_version": "1.5.0",
          "model_name": "HTMLModel",
          "state": {
            "_dom_classes": [],
            "_model_module": "@jupyter-widgets/controls",
            "_model_module_version": "1.5.0",
            "_model_name": "HTMLModel",
            "_view_count": null,
            "_view_module": "@jupyter-widgets/controls",
            "_view_module_version": "1.5.0",
            "_view_name": "HTMLView",
            "description": "",
            "description_tooltip": null,
            "layout": "IPY_MODEL_22b15a6fc4754bcf85c5eb3939f7b4b1",
            "placeholder": "​",
            "style": "IPY_MODEL_a5da4dfa0f844ed9bfb5fe7d3e070215",
            "value": " 466k/466k [00:00&lt;00:00, 8.90MB/s]"
          }
        },
        "907db15005c64b26838d7f679b210f13": {
          "model_module": "@jupyter-widgets/controls",
          "model_module_version": "1.5.0",
          "model_name": "DescriptionStyleModel",
          "state": {
            "_model_module": "@jupyter-widgets/controls",
            "_model_module_version": "1.5.0",
            "_model_name": "DescriptionStyleModel",
            "_view_count": null,
            "_view_module": "@jupyter-widgets/base",
            "_view_module_version": "1.2.0",
            "_view_name": "StyleView",
            "description_width": ""
          }
        },
        "979ff0a9ff0f409d995935fedb50c3c4": {
          "model_module": "@jupyter-widgets/controls",
          "model_module_version": "1.5.0",
          "model_name": "ProgressStyleModel",
          "state": {
            "_model_module": "@jupyter-widgets/controls",
            "_model_module_version": "1.5.0",
            "_model_name": "ProgressStyleModel",
            "_view_count": null,
            "_view_module": "@jupyter-widgets/base",
            "_view_module_version": "1.2.0",
            "_view_name": "StyleView",
            "bar_color": null,
            "description_width": ""
          }
        },
        "a5da4dfa0f844ed9bfb5fe7d3e070215": {
          "model_module": "@jupyter-widgets/controls",
          "model_module_version": "1.5.0",
          "model_name": "DescriptionStyleModel",
          "state": {
            "_model_module": "@jupyter-widgets/controls",
            "_model_module_version": "1.5.0",
            "_model_name": "DescriptionStyleModel",
            "_view_count": null,
            "_view_module": "@jupyter-widgets/base",
            "_view_module_version": "1.2.0",
            "_view_name": "StyleView",
            "description_width": ""
          }
        },
        "aa8502a15c8d4c23ad74f3fd43f75a0d": {
          "model_module": "@jupyter-widgets/controls",
          "model_module_version": "1.5.0",
          "model_name": "DescriptionStyleModel",
          "state": {
            "_model_module": "@jupyter-widgets/controls",
            "_model_module_version": "1.5.0",
            "_model_name": "DescriptionStyleModel",
            "_view_count": null,
            "_view_module": "@jupyter-widgets/base",
            "_view_module_version": "1.2.0",
            "_view_name": "StyleView",
            "description_width": ""
          }
        },
        "ab15b2f52db4497089662e433bfb6012": {
          "model_module": "@jupyter-widgets/controls",
          "model_module_version": "1.5.0",
          "model_name": "FloatProgressModel",
          "state": {
            "_dom_classes": [],
            "_model_module": "@jupyter-widgets/controls",
            "_model_module_version": "1.5.0",
            "_model_name": "FloatProgressModel",
            "_view_count": null,
            "_view_module": "@jupyter-widgets/controls",
            "_view_module_version": "1.5.0",
            "_view_name": "ProgressView",
            "bar_style": "success",
            "description": "",
            "description_tooltip": null,
            "layout": "IPY_MODEL_e3b0afb82b8f4512bcaa009ce877829f",
            "max": 48,
            "min": 0,
            "orientation": "horizontal",
            "style": "IPY_MODEL_26e2febacb784e8ea2817c16827c7a29",
            "value": 48
          }
        },
        "b03cfe1c44cd456c947a6de4a3064333": {
          "model_module": "@jupyter-widgets/controls",
          "model_module_version": "1.5.0",
          "model_name": "HTMLModel",
          "state": {
            "_dom_classes": [],
            "_model_module": "@jupyter-widgets/controls",
            "_model_module_version": "1.5.0",
            "_model_name": "HTMLModel",
            "_view_count": null,
            "_view_module": "@jupyter-widgets/controls",
            "_view_module_version": "1.5.0",
            "_view_name": "HTMLView",
            "description": "",
            "description_tooltip": null,
            "layout": "IPY_MODEL_125ce8d342c04e70b7781764d96bdce9",
            "placeholder": "​",
            "style": "IPY_MODEL_c1bd80f1587f4f029bf937cc3e3534d9",
            "value": " 570/570 [00:00&lt;00:00, 38.6kB/s]"
          }
        },
        "b440f13dfdea476481db390cc7178179": {
          "model_module": "@jupyter-widgets/controls",
          "model_module_version": "1.5.0",
          "model_name": "FloatProgressModel",
          "state": {
            "_dom_classes": [],
            "_model_module": "@jupyter-widgets/controls",
            "_model_module_version": "1.5.0",
            "_model_name": "FloatProgressModel",
            "_view_count": null,
            "_view_module": "@jupyter-widgets/controls",
            "_view_module_version": "1.5.0",
            "_view_name": "ProgressView",
            "bar_style": "success",
            "description": "",
            "description_tooltip": null,
            "layout": "IPY_MODEL_43ab06e1f179462ca71209d94866db33",
            "max": 466062,
            "min": 0,
            "orientation": "horizontal",
            "style": "IPY_MODEL_979ff0a9ff0f409d995935fedb50c3c4",
            "value": 466062
          }
        },
        "b942bca7448c4216b30646fb5a58bcec": {
          "model_module": "@jupyter-widgets/base",
          "model_module_version": "1.2.0",
          "model_name": "LayoutModel",
          "state": {
            "_model_module": "@jupyter-widgets/base",
            "_model_module_version": "1.2.0",
            "_model_name": "LayoutModel",
            "_view_count": null,
            "_view_module": "@jupyter-widgets/base",
            "_view_module_version": "1.2.0",
            "_view_name": "LayoutView",
            "align_content": null,
            "align_items": null,
            "align_self": null,
            "border": null,
            "bottom": null,
            "display": null,
            "flex": null,
            "flex_flow": null,
            "grid_area": null,
            "grid_auto_columns": null,
            "grid_auto_flow": null,
            "grid_auto_rows": null,
            "grid_column": null,
            "grid_gap": null,
            "grid_row": null,
            "grid_template_areas": null,
            "grid_template_columns": null,
            "grid_template_rows": null,
            "height": null,
            "justify_content": null,
            "justify_items": null,
            "left": null,
            "margin": null,
            "max_height": null,
            "max_width": null,
            "min_height": null,
            "min_width": null,
            "object_fit": null,
            "object_position": null,
            "order": null,
            "overflow": null,
            "overflow_x": null,
            "overflow_y": null,
            "padding": null,
            "right": null,
            "top": null,
            "visibility": null,
            "width": null
          }
        },
        "c1bd80f1587f4f029bf937cc3e3534d9": {
          "model_module": "@jupyter-widgets/controls",
          "model_module_version": "1.5.0",
          "model_name": "DescriptionStyleModel",
          "state": {
            "_model_module": "@jupyter-widgets/controls",
            "_model_module_version": "1.5.0",
            "_model_name": "DescriptionStyleModel",
            "_view_count": null,
            "_view_module": "@jupyter-widgets/base",
            "_view_module_version": "1.2.0",
            "_view_name": "StyleView",
            "description_width": ""
          }
        },
        "c5cf9c6c8028401aaa7590480d84e952": {
          "model_module": "@jupyter-widgets/controls",
          "model_module_version": "1.5.0",
          "model_name": "DescriptionStyleModel",
          "state": {
            "_model_module": "@jupyter-widgets/controls",
            "_model_module_version": "1.5.0",
            "_model_name": "DescriptionStyleModel",
            "_view_count": null,
            "_view_module": "@jupyter-widgets/base",
            "_view_module_version": "1.2.0",
            "_view_name": "StyleView",
            "description_width": ""
          }
        },
        "c7f532ae668248a999ab5af51563e928": {
          "model_module": "@jupyter-widgets/controls",
          "model_module_version": "1.5.0",
          "model_name": "HTMLModel",
          "state": {
            "_dom_classes": [],
            "_model_module": "@jupyter-widgets/controls",
            "_model_module_version": "1.5.0",
            "_model_name": "HTMLModel",
            "_view_count": null,
            "_view_module": "@jupyter-widgets/controls",
            "_view_module_version": "1.5.0",
            "_view_name": "HTMLView",
            "description": "",
            "description_tooltip": null,
            "layout": "IPY_MODEL_18c56bd0fba24675ab50d9776ad5bda1",
            "placeholder": "​",
            "style": "IPY_MODEL_907db15005c64b26838d7f679b210f13",
            "value": "tokenizer.json: 100%"
          }
        },
        "cb7551243343417fb38e464cf7998d1f": {
          "model_module": "@jupyter-widgets/base",
          "model_module_version": "1.2.0",
          "model_name": "LayoutModel",
          "state": {
            "_model_module": "@jupyter-widgets/base",
            "_model_module_version": "1.2.0",
            "_model_name": "LayoutModel",
            "_view_count": null,
            "_view_module": "@jupyter-widgets/base",
            "_view_module_version": "1.2.0",
            "_view_name": "LayoutView",
            "align_content": null,
            "align_items": null,
            "align_self": null,
            "border": null,
            "bottom": null,
            "display": null,
            "flex": null,
            "flex_flow": null,
            "grid_area": null,
            "grid_auto_columns": null,
            "grid_auto_flow": null,
            "grid_auto_rows": null,
            "grid_column": null,
            "grid_gap": null,
            "grid_row": null,
            "grid_template_areas": null,
            "grid_template_columns": null,
            "grid_template_rows": null,
            "height": null,
            "justify_content": null,
            "justify_items": null,
            "left": null,
            "margin": null,
            "max_height": null,
            "max_width": null,
            "min_height": null,
            "min_width": null,
            "object_fit": null,
            "object_position": null,
            "order": null,
            "overflow": null,
            "overflow_x": null,
            "overflow_y": null,
            "padding": null,
            "right": null,
            "top": null,
            "visibility": null,
            "width": null
          }
        },
        "cbde1fe3bb5e4937a02cedd4be1655a4": {
          "model_module": "@jupyter-widgets/base",
          "model_module_version": "1.2.0",
          "model_name": "LayoutModel",
          "state": {
            "_model_module": "@jupyter-widgets/base",
            "_model_module_version": "1.2.0",
            "_model_name": "LayoutModel",
            "_view_count": null,
            "_view_module": "@jupyter-widgets/base",
            "_view_module_version": "1.2.0",
            "_view_name": "LayoutView",
            "align_content": null,
            "align_items": null,
            "align_self": null,
            "border": null,
            "bottom": null,
            "display": null,
            "flex": null,
            "flex_flow": null,
            "grid_area": null,
            "grid_auto_columns": null,
            "grid_auto_flow": null,
            "grid_auto_rows": null,
            "grid_column": null,
            "grid_gap": null,
            "grid_row": null,
            "grid_template_areas": null,
            "grid_template_columns": null,
            "grid_template_rows": null,
            "height": null,
            "justify_content": null,
            "justify_items": null,
            "left": null,
            "margin": null,
            "max_height": null,
            "max_width": null,
            "min_height": null,
            "min_width": null,
            "object_fit": null,
            "object_position": null,
            "order": null,
            "overflow": null,
            "overflow_x": null,
            "overflow_y": null,
            "padding": null,
            "right": null,
            "top": null,
            "visibility": null,
            "width": null
          }
        },
        "da016232c01e4109a99544a183a58809": {
          "model_module": "@jupyter-widgets/controls",
          "model_module_version": "1.5.0",
          "model_name": "HBoxModel",
          "state": {
            "_dom_classes": [],
            "_model_module": "@jupyter-widgets/controls",
            "_model_module_version": "1.5.0",
            "_model_name": "HBoxModel",
            "_view_count": null,
            "_view_module": "@jupyter-widgets/controls",
            "_view_module_version": "1.5.0",
            "_view_name": "HBoxView",
            "box_style": "",
            "children": [
              "IPY_MODEL_5a2254be1ce94fb6b37145e0c69c3a77",
              "IPY_MODEL_ab15b2f52db4497089662e433bfb6012",
              "IPY_MODEL_388dba3f7b644600ad168506fefba849"
            ],
            "layout": "IPY_MODEL_b942bca7448c4216b30646fb5a58bcec"
          }
        },
        "da90624b48614f30a7028a018866fab3": {
          "model_module": "@jupyter-widgets/base",
          "model_module_version": "1.2.0",
          "model_name": "LayoutModel",
          "state": {
            "_model_module": "@jupyter-widgets/base",
            "_model_module_version": "1.2.0",
            "_model_name": "LayoutModel",
            "_view_count": null,
            "_view_module": "@jupyter-widgets/base",
            "_view_module_version": "1.2.0",
            "_view_name": "LayoutView",
            "align_content": null,
            "align_items": null,
            "align_self": null,
            "border": null,
            "bottom": null,
            "display": null,
            "flex": null,
            "flex_flow": null,
            "grid_area": null,
            "grid_auto_columns": null,
            "grid_auto_flow": null,
            "grid_auto_rows": null,
            "grid_column": null,
            "grid_gap": null,
            "grid_row": null,
            "grid_template_areas": null,
            "grid_template_columns": null,
            "grid_template_rows": null,
            "height": null,
            "justify_content": null,
            "justify_items": null,
            "left": null,
            "margin": null,
            "max_height": null,
            "max_width": null,
            "min_height": null,
            "min_width": null,
            "object_fit": null,
            "object_position": null,
            "order": null,
            "overflow": null,
            "overflow_x": null,
            "overflow_y": null,
            "padding": null,
            "right": null,
            "top": null,
            "visibility": null,
            "width": null
          }
        },
        "e391c04f50694710ad6f91b0bf403479": {
          "model_module": "@jupyter-widgets/controls",
          "model_module_version": "1.5.0",
          "model_name": "HBoxModel",
          "state": {
            "_dom_classes": [],
            "_model_module": "@jupyter-widgets/controls",
            "_model_module_version": "1.5.0",
            "_model_name": "HBoxModel",
            "_view_count": null,
            "_view_module": "@jupyter-widgets/controls",
            "_view_module_version": "1.5.0",
            "_view_name": "HBoxView",
            "box_style": "",
            "children": [
              "IPY_MODEL_c7f532ae668248a999ab5af51563e928",
              "IPY_MODEL_b440f13dfdea476481db390cc7178179",
              "IPY_MODEL_8e27337584ba4a8ca28af0c22ee4c3f7"
            ],
            "layout": "IPY_MODEL_6eb303bce09940ad9236edfd2bac66af"
          }
        },
        "e3b0afb82b8f4512bcaa009ce877829f": {
          "model_module": "@jupyter-widgets/base",
          "model_module_version": "1.2.0",
          "model_name": "LayoutModel",
          "state": {
            "_model_module": "@jupyter-widgets/base",
            "_model_module_version": "1.2.0",
            "_model_name": "LayoutModel",
            "_view_count": null,
            "_view_module": "@jupyter-widgets/base",
            "_view_module_version": "1.2.0",
            "_view_name": "LayoutView",
            "align_content": null,
            "align_items": null,
            "align_self": null,
            "border": null,
            "bottom": null,
            "display": null,
            "flex": null,
            "flex_flow": null,
            "grid_area": null,
            "grid_auto_columns": null,
            "grid_auto_flow": null,
            "grid_auto_rows": null,
            "grid_column": null,
            "grid_gap": null,
            "grid_row": null,
            "grid_template_areas": null,
            "grid_template_columns": null,
            "grid_template_rows": null,
            "height": null,
            "justify_content": null,
            "justify_items": null,
            "left": null,
            "margin": null,
            "max_height": null,
            "max_width": null,
            "min_height": null,
            "min_width": null,
            "object_fit": null,
            "object_position": null,
            "order": null,
            "overflow": null,
            "overflow_x": null,
            "overflow_y": null,
            "padding": null,
            "right": null,
            "top": null,
            "visibility": null,
            "width": null
          }
        },
        "e672470566f34b9384fe2ada3bacebfa": {
          "model_module": "@jupyter-widgets/controls",
          "model_module_version": "1.5.0",
          "model_name": "HBoxModel",
          "state": {
            "_dom_classes": [],
            "_model_module": "@jupyter-widgets/controls",
            "_model_module_version": "1.5.0",
            "_model_name": "HBoxModel",
            "_view_count": null,
            "_view_module": "@jupyter-widgets/controls",
            "_view_module_version": "1.5.0",
            "_view_name": "HBoxView",
            "box_style": "",
            "children": [
              "IPY_MODEL_ea1bd7101bc14f679d70153a65aae0d1",
              "IPY_MODEL_f041ed4a38f2479f86d19dfa1a918f1f",
              "IPY_MODEL_b03cfe1c44cd456c947a6de4a3064333"
            ],
            "layout": "IPY_MODEL_7494aaba47e344bb80699aef8099db38"
          }
        },
        "ea1bd7101bc14f679d70153a65aae0d1": {
          "model_module": "@jupyter-widgets/controls",
          "model_module_version": "1.5.0",
          "model_name": "HTMLModel",
          "state": {
            "_dom_classes": [],
            "_model_module": "@jupyter-widgets/controls",
            "_model_module_version": "1.5.0",
            "_model_name": "HTMLModel",
            "_view_count": null,
            "_view_module": "@jupyter-widgets/controls",
            "_view_module_version": "1.5.0",
            "_view_name": "HTMLView",
            "description": "",
            "description_tooltip": null,
            "layout": "IPY_MODEL_da90624b48614f30a7028a018866fab3",
            "placeholder": "​",
            "style": "IPY_MODEL_c5cf9c6c8028401aaa7590480d84e952",
            "value": "config.json: 100%"
          }
        },
        "f041ed4a38f2479f86d19dfa1a918f1f": {
          "model_module": "@jupyter-widgets/controls",
          "model_module_version": "1.5.0",
          "model_name": "FloatProgressModel",
          "state": {
            "_dom_classes": [],
            "_model_module": "@jupyter-widgets/controls",
            "_model_module_version": "1.5.0",
            "_model_name": "FloatProgressModel",
            "_view_count": null,
            "_view_module": "@jupyter-widgets/controls",
            "_view_module_version": "1.5.0",
            "_view_name": "ProgressView",
            "bar_style": "success",
            "description": "",
            "description_tooltip": null,
            "layout": "IPY_MODEL_0c5498150fa24118828b85bd0cb61331",
            "max": 570,
            "min": 0,
            "orientation": "horizontal",
            "style": "IPY_MODEL_1be704cca1bc4e52a212f6f8080788ab",
            "value": 570
          }
        },
        "f3ce70f1be7e4c7ab1a710c0c0bcbed3": {
          "model_module": "@jupyter-widgets/controls",
          "model_module_version": "1.5.0",
          "model_name": "FloatProgressModel",
          "state": {
            "_dom_classes": [],
            "_model_module": "@jupyter-widgets/controls",
            "_model_module_version": "1.5.0",
            "_model_name": "FloatProgressModel",
            "_view_count": null,
            "_view_module": "@jupyter-widgets/controls",
            "_view_module_version": "1.5.0",
            "_view_name": "ProgressView",
            "bar_style": "success",
            "description": "",
            "description_tooltip": null,
            "layout": "IPY_MODEL_662493d099834a8a930077481ad2bc47",
            "max": 440449768,
            "min": 0,
            "orientation": "horizontal",
            "style": "IPY_MODEL_5b90aca1dbae462cb8a0291cf0b5f571",
            "value": 440449768
          }
        },
        "f3f9ec21c8b54a17bf99c9c71c8f0cb0": {
          "model_module": "@jupyter-widgets/controls",
          "model_module_version": "1.5.0",
          "model_name": "HBoxModel",
          "state": {
            "_dom_classes": [],
            "_model_module": "@jupyter-widgets/controls",
            "_model_module_version": "1.5.0",
            "_model_name": "HBoxModel",
            "_view_count": null,
            "_view_module": "@jupyter-widgets/controls",
            "_view_module_version": "1.5.0",
            "_view_name": "HBoxView",
            "box_style": "",
            "children": [
              "IPY_MODEL_7f1ac1959c3048bab0b7102686a47a67",
              "IPY_MODEL_f3ce70f1be7e4c7ab1a710c0c0bcbed3",
              "IPY_MODEL_85b78b716f1c4859bdc95f26c012a09b"
            ],
            "layout": "IPY_MODEL_53da09303b8d4d509ba0bcb69b04b8b4"
          }
        }
      }
    }
  },
  "nbformat": 4,
  "nbformat_minor": 5
}
