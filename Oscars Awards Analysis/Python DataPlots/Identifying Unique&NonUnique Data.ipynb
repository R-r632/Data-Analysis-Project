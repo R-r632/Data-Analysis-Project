{
 "cells": [
  {
   "cell_type": "code",
   "execution_count": 1,
   "id": "2fbb051b",
   "metadata": {
    "_cell_guid": "b1076dfc-b9ad-4769-8c92-a6c4dae69d19",
    "_uuid": "8f2839f25d086af736a60e9eeb907d3b93b6e0e5",
    "execution": {
     "iopub.execute_input": "2022-11-12T18:48:12.610707Z",
     "iopub.status.busy": "2022-11-12T18:48:12.609718Z",
     "iopub.status.idle": "2022-11-12T18:48:12.633945Z",
     "shell.execute_reply": "2022-11-12T18:48:12.632481Z"
    },
    "papermill": {
     "duration": 0.038664,
     "end_time": "2022-11-12T18:48:12.638180",
     "exception": false,
     "start_time": "2022-11-12T18:48:12.599516",
     "status": "completed"
    },
    "tags": []
   },
   "outputs": [],
   "source": [
    "import numpy as np \n",
    "import pandas as pd"
   ]
  },
  {
   "cell_type": "code",
   "execution_count": 2,
   "id": "a891bfcf",
   "metadata": {
    "execution": {
     "iopub.execute_input": "2022-11-12T18:48:12.650837Z",
     "iopub.status.busy": "2022-11-12T18:48:12.650133Z",
     "iopub.status.idle": "2022-11-12T18:48:13.838516Z",
     "shell.execute_reply": "2022-11-12T18:48:13.837058Z"
    },
    "papermill": {
     "duration": 1.197456,
     "end_time": "2022-11-12T18:48:13.841438",
     "exception": false,
     "start_time": "2022-11-12T18:48:12.643982",
     "status": "completed"
    },
    "tags": []
   },
   "outputs": [],
   "source": [
    "import seaborn as sns\n",
    "import matplotlib.pyplot as plt"
   ]
  },
  {
   "cell_type": "code",
   "execution_count": 3,
   "id": "55a76a9e",
   "metadata": {
    "execution": {
     "iopub.execute_input": "2022-11-12T18:48:13.852218Z",
     "iopub.status.busy": "2022-11-12T18:48:13.851795Z",
     "iopub.status.idle": "2022-11-12T18:48:13.909788Z",
     "shell.execute_reply": "2022-11-12T18:48:13.908402Z"
    },
    "papermill": {
     "duration": 0.066614,
     "end_time": "2022-11-12T18:48:13.912620",
     "exception": false,
     "start_time": "2022-11-12T18:48:13.846006",
     "status": "completed"
    },
    "tags": []
   },
   "outputs": [],
   "source": [
    "df=pd.read_csv('OscarsDatasets.csv')"
   ]
  },
  {
   "cell_type": "code",
   "execution_count": 4,
   "id": "d2d99ad1",
   "metadata": {
    "execution": {
     "iopub.execute_input": "2022-11-12T18:48:13.923344Z",
     "iopub.status.busy": "2022-11-12T18:48:13.922960Z",
     "iopub.status.idle": "2022-11-12T18:48:13.947636Z",
     "shell.execute_reply": "2022-11-12T18:48:13.946310Z"
    },
    "papermill": {
     "duration": 0.03335,
     "end_time": "2022-11-12T18:48:13.950555",
     "exception": false,
     "start_time": "2022-11-12T18:48:13.917205",
     "status": "completed"
    },
    "tags": []
   },
   "outputs": [
    {
     "data": {
      "text/html": [
       "<div>\n",
       "<style scoped>\n",
       "    .dataframe tbody tr th:only-of-type {\n",
       "        vertical-align: middle;\n",
       "    }\n",
       "\n",
       "    .dataframe tbody tr th {\n",
       "        vertical-align: top;\n",
       "    }\n",
       "\n",
       "    .dataframe thead th {\n",
       "        text-align: right;\n",
       "    }\n",
       "</style>\n",
       "<table border=\"1\" class=\"dataframe\">\n",
       "  <thead>\n",
       "    <tr style=\"text-align: right;\">\n",
       "      <th></th>\n",
       "      <th>year_film</th>\n",
       "      <th>year_ceremony</th>\n",
       "      <th>ceremony</th>\n",
       "      <th>category</th>\n",
       "      <th>name</th>\n",
       "      <th>film</th>\n",
       "      <th>winner</th>\n",
       "      <th>winner_binary</th>\n",
       "    </tr>\n",
       "  </thead>\n",
       "  <tbody>\n",
       "    <tr>\n",
       "      <th>0</th>\n",
       "      <td>1927</td>\n",
       "      <td>1928</td>\n",
       "      <td>1</td>\n",
       "      <td>ACTOR</td>\n",
       "      <td>Richard Barthelmess</td>\n",
       "      <td>The Noose</td>\n",
       "      <td>NOMINATED</td>\n",
       "      <td>0</td>\n",
       "    </tr>\n",
       "    <tr>\n",
       "      <th>1</th>\n",
       "      <td>1927</td>\n",
       "      <td>1928</td>\n",
       "      <td>1</td>\n",
       "      <td>ACTOR</td>\n",
       "      <td>Emil Jannings</td>\n",
       "      <td>The Last Command</td>\n",
       "      <td>WINNER</td>\n",
       "      <td>1</td>\n",
       "    </tr>\n",
       "    <tr>\n",
       "      <th>2</th>\n",
       "      <td>1927</td>\n",
       "      <td>1928</td>\n",
       "      <td>1</td>\n",
       "      <td>ACTRESS</td>\n",
       "      <td>Louise Dresser</td>\n",
       "      <td>A Ship Comes In</td>\n",
       "      <td>NOMINATED</td>\n",
       "      <td>0</td>\n",
       "    </tr>\n",
       "    <tr>\n",
       "      <th>3</th>\n",
       "      <td>1927</td>\n",
       "      <td>1928</td>\n",
       "      <td>1</td>\n",
       "      <td>ACTRESS</td>\n",
       "      <td>Janet Gaynor</td>\n",
       "      <td>7th Heaven</td>\n",
       "      <td>WINNER</td>\n",
       "      <td>1</td>\n",
       "    </tr>\n",
       "    <tr>\n",
       "      <th>4</th>\n",
       "      <td>1927</td>\n",
       "      <td>1928</td>\n",
       "      <td>1</td>\n",
       "      <td>ACTRESS</td>\n",
       "      <td>Gloria Swanson</td>\n",
       "      <td>Sadie Thompson</td>\n",
       "      <td>NOMINATED</td>\n",
       "      <td>0</td>\n",
       "    </tr>\n",
       "  </tbody>\n",
       "</table>\n",
       "</div>"
      ],
      "text/plain": [
       "   year_film  year_ceremony  ceremony category                 name  \\\n",
       "0       1927           1928         1    ACTOR  Richard Barthelmess   \n",
       "1       1927           1928         1    ACTOR        Emil Jannings   \n",
       "2       1927           1928         1  ACTRESS       Louise Dresser   \n",
       "3       1927           1928         1  ACTRESS         Janet Gaynor   \n",
       "4       1927           1928         1  ACTRESS       Gloria Swanson   \n",
       "\n",
       "               film     winner  winner_binary  \n",
       "0         The Noose  NOMINATED              0  \n",
       "1  The Last Command     WINNER              1  \n",
       "2   A Ship Comes In  NOMINATED              0  \n",
       "3        7th Heaven     WINNER              1  \n",
       "4    Sadie Thompson  NOMINATED              0  "
      ]
     },
     "execution_count": 4,
     "metadata": {},
     "output_type": "execute_result"
    }
   ],
   "source": [
    "df.head()"
   ]
  },
  {
   "cell_type": "code",
   "execution_count": 5,
   "id": "7f4e582c",
   "metadata": {
    "execution": {
     "iopub.execute_input": "2022-11-12T18:48:13.962010Z",
     "iopub.status.busy": "2022-11-12T18:48:13.961588Z",
     "iopub.status.idle": "2022-11-12T18:48:14.213941Z",
     "shell.execute_reply": "2022-11-12T18:48:14.212268Z"
    },
    "papermill": {
     "duration": 0.261708,
     "end_time": "2022-11-12T18:48:14.217275",
     "exception": false,
     "start_time": "2022-11-12T18:48:13.955567",
     "status": "completed"
    },
    "tags": []
   },
   "outputs": [
    {
     "data": {
      "text/plain": [
       "<Axes: >"
      ]
     },
     "execution_count": 5,
     "metadata": {},
     "output_type": "execute_result"
    },
    {
     "data": {
      "image/png": "[encoded data removed]",
      "text/plain": [
       "<Figure size 640x480 with 1 Axes>"
      ]
     },
     "metadata": {},
     "output_type": "display_data"
    }
   ],
   "source": [
    "df['year_film'].hist()"
   ]
  },
  {
   "cell_type": "code",
   "execution_count": 6,
   "id": "91c49d4a",
   "metadata": {
    "execution": {
     "iopub.execute_input": "2022-11-12T18:48:14.230863Z",
     "iopub.status.busy": "2022-11-12T18:48:14.230185Z",
     "iopub.status.idle": "2022-11-12T18:48:14.422606Z",
     "shell.execute_reply": "2022-11-12T18:48:14.421651Z"
    },
    "papermill": {
     "duration": 0.202554,
     "end_time": "2022-11-12T18:48:14.424941",
     "exception": false,
     "start_time": "2022-11-12T18:48:14.222387",
     "status": "completed"
    },
    "tags": []
   },
   "outputs": [
    {
     "data": {
      "text/plain": [
       "<Axes: >"
      ]
     },
     "execution_count": 6,
     "metadata": {},
     "output_type": "execute_result"
    },
    {
     "data": {
      "image/png": "[encoded data removed]",
      "text/plain": [
       "<Figure size 640x480 with 1 Axes>"
      ]
     },
     "metadata": {},
     "output_type": "display_data"
    }
   ],
   "source": [
    "df['year_ceremony'].hist()"
   ]
  },
  {
   "cell_type": "code",
   "execution_count": 7,
   "id": "f041b897",
   "metadata": {
    "execution": {
     "iopub.execute_input": "2022-11-12T18:48:14.437962Z",
     "iopub.status.busy": "2022-11-12T18:48:14.437512Z",
     "iopub.status.idle": "2022-11-12T18:48:14.448637Z",
     "shell.execute_reply": "2022-11-12T18:48:14.447390Z"
    },
    "papermill": {
     "duration": 0.020764,
     "end_time": "2022-11-12T18:48:14.451216",
     "exception": false,
     "start_time": "2022-11-12T18:48:14.430452",
     "status": "completed"
    },
    "tags": []
   },
   "outputs": [
    {
     "data": {
      "text/plain": [
       "winner\n",
       "NOMINATED    8424\n",
       "WINNER       2465\n",
       "Name: count, dtype: int64"
      ]
     },
     "execution_count": 7,
     "metadata": {},
     "output_type": "execute_result"
    }
   ],
   "source": [
    "df['winner'].value_counts()"
   ]
  },
  {
   "cell_type": "code",
   "execution_count": 8,
   "id": "500694b5",
   "metadata": {
    "execution": {
     "iopub.execute_input": "2022-11-12T18:48:14.465746Z",
     "iopub.status.busy": "2022-11-12T18:48:14.465305Z",
     "iopub.status.idle": "2022-11-12T18:48:14.490339Z",
     "shell.execute_reply": "2022-11-12T18:48:14.489199Z"
    },
    "papermill": {
     "duration": 0.034914,
     "end_time": "2022-11-12T18:48:14.493438",
     "exception": false,
     "start_time": "2022-11-12T18:48:14.458524",
     "status": "completed"
    },
    "tags": []
   },
   "outputs": [
    {
     "name": "stdout",
     "output_type": "stream",
     "text": [
      "<class 'pandas.core.frame.DataFrame'>\n",
      "RangeIndex: 10889 entries, 0 to 10888\n",
      "Data columns (total 8 columns):\n",
      " #   Column         Non-Null Count  Dtype \n",
      "---  ------         --------------  ----- \n",
      " 0   year_film      10889 non-null  int64 \n",
      " 1   year_ceremony  10889 non-null  int64 \n",
      " 2   ceremony       10889 non-null  int64 \n",
      " 3   category       10889 non-null  object\n",
      " 4   name           10884 non-null  object\n",
      " 5   film           10570 non-null  object\n",
      " 6   winner         10889 non-null  object\n",
      " 7   winner_binary  10889 non-null  int64 \n",
      "dtypes: int64(4), object(4)\n",
      "memory usage: 680.7+ KB\n"
     ]
    }
   ],
   "source": [
    "df.info()"
   ]
  },
  {
   "cell_type": "code",
   "execution_count": 9,
   "id": "4ce3648c",
   "metadata": {
    "execution": {
     "iopub.execute_input": "2022-11-12T18:48:14.508244Z",
     "iopub.status.busy": "2022-11-12T18:48:14.507493Z",
     "iopub.status.idle": "2022-11-12T18:48:14.516246Z",
     "shell.execute_reply": "2022-11-12T18:48:14.515067Z"
    },
    "papermill": {
     "duration": 0.018104,
     "end_time": "2022-11-12T18:48:14.518590",
     "exception": false,
     "start_time": "2022-11-12T18:48:14.500486",
     "status": "completed"
    },
    "tags": []
   },
   "outputs": [
    {
     "data": {
      "text/plain": [
       "Index(['year_film', 'year_ceremony', 'ceremony', 'category', 'name', 'film',\n",
       "       'winner', 'winner_binary'],\n",
       "      dtype='object')"
      ]
     },
     "execution_count": 9,
     "metadata": {},
     "output_type": "execute_result"
    }
   ],
   "source": [
    "df.columns"
   ]
  },
  {
   "cell_type": "code",
   "execution_count": 10,
   "id": "0ebb1a7f",
   "metadata": {
    "execution": {
     "iopub.execute_input": "2022-11-12T18:48:14.532094Z",
     "iopub.status.busy": "2022-11-12T18:48:14.531611Z",
     "iopub.status.idle": "2022-11-12T18:48:14.574466Z",
     "shell.execute_reply": "2022-11-12T18:48:14.573080Z"
    },
    "papermill": {
     "duration": 0.052962,
     "end_time": "2022-11-12T18:48:14.577265",
     "exception": false,
     "start_time": "2022-11-12T18:48:14.524303",
     "status": "completed"
    },
    "tags": []
   },
   "outputs": [
    {
     "data": {
      "text/html": [
       "<div>\n",
       "<style scoped>\n",
       "    .dataframe tbody tr th:only-of-type {\n",
       "        vertical-align: middle;\n",
       "    }\n",
       "\n",
       "    .dataframe tbody tr th {\n",
       "        vertical-align: top;\n",
       "    }\n",
       "\n",
       "    .dataframe thead th {\n",
       "        text-align: right;\n",
       "    }\n",
       "</style>\n",
       "<table border=\"1\" class=\"dataframe\">\n",
       "  <thead>\n",
       "    <tr style=\"text-align: right;\">\n",
       "      <th></th>\n",
       "      <th>year_film</th>\n",
       "      <th>year_ceremony</th>\n",
       "      <th>ceremony</th>\n",
       "      <th>category</th>\n",
       "      <th>name</th>\n",
       "      <th>film</th>\n",
       "      <th>winner</th>\n",
       "      <th>winner_binary</th>\n",
       "    </tr>\n",
       "  </thead>\n",
       "  <tbody>\n",
       "    <tr>\n",
       "      <th>count</th>\n",
       "      <td>10889.000000</td>\n",
       "      <td>10889.000000</td>\n",
       "      <td>10889.000000</td>\n",
       "      <td>10889</td>\n",
       "      <td>10884</td>\n",
       "      <td>10570</td>\n",
       "      <td>10889</td>\n",
       "      <td>10889.000000</td>\n",
       "    </tr>\n",
       "    <tr>\n",
       "      <th>unique</th>\n",
       "      <td>NaN</td>\n",
       "      <td>NaN</td>\n",
       "      <td>NaN</td>\n",
       "      <td>115</td>\n",
       "      <td>7039</td>\n",
       "      <td>5041</td>\n",
       "      <td>2</td>\n",
       "      <td>NaN</td>\n",
       "    </tr>\n",
       "    <tr>\n",
       "      <th>top</th>\n",
       "      <td>NaN</td>\n",
       "      <td>NaN</td>\n",
       "      <td>NaN</td>\n",
       "      <td>DIRECTING</td>\n",
       "      <td>Metro-Goldwyn-Mayer</td>\n",
       "      <td>A Star Is Born</td>\n",
       "      <td>NOMINATED</td>\n",
       "      <td>NaN</td>\n",
       "    </tr>\n",
       "    <tr>\n",
       "      <th>freq</th>\n",
       "      <td>NaN</td>\n",
       "      <td>NaN</td>\n",
       "      <td>NaN</td>\n",
       "      <td>469</td>\n",
       "      <td>64</td>\n",
       "      <td>25</td>\n",
       "      <td>8424</td>\n",
       "      <td>NaN</td>\n",
       "    </tr>\n",
       "    <tr>\n",
       "      <th>mean</th>\n",
       "      <td>1976.608596</td>\n",
       "      <td>1977.608596</td>\n",
       "      <td>49.633024</td>\n",
       "      <td>NaN</td>\n",
       "      <td>NaN</td>\n",
       "      <td>NaN</td>\n",
       "      <td>NaN</td>\n",
       "      <td>0.226375</td>\n",
       "    </tr>\n",
       "    <tr>\n",
       "      <th>std</th>\n",
       "      <td>27.358261</td>\n",
       "      <td>27.358261</td>\n",
       "      <td>27.316863</td>\n",
       "      <td>NaN</td>\n",
       "      <td>NaN</td>\n",
       "      <td>NaN</td>\n",
       "      <td>NaN</td>\n",
       "      <td>0.418504</td>\n",
       "    </tr>\n",
       "    <tr>\n",
       "      <th>min</th>\n",
       "      <td>1927.000000</td>\n",
       "      <td>1928.000000</td>\n",
       "      <td>1.000000</td>\n",
       "      <td>NaN</td>\n",
       "      <td>NaN</td>\n",
       "      <td>NaN</td>\n",
       "      <td>NaN</td>\n",
       "      <td>0.000000</td>\n",
       "    </tr>\n",
       "    <tr>\n",
       "      <th>25%</th>\n",
       "      <td>1952.000000</td>\n",
       "      <td>1953.000000</td>\n",
       "      <td>25.000000</td>\n",
       "      <td>NaN</td>\n",
       "      <td>NaN</td>\n",
       "      <td>NaN</td>\n",
       "      <td>NaN</td>\n",
       "      <td>0.000000</td>\n",
       "    </tr>\n",
       "    <tr>\n",
       "      <th>50%</th>\n",
       "      <td>1976.000000</td>\n",
       "      <td>1977.000000</td>\n",
       "      <td>49.000000</td>\n",
       "      <td>NaN</td>\n",
       "      <td>NaN</td>\n",
       "      <td>NaN</td>\n",
       "      <td>NaN</td>\n",
       "      <td>0.000000</td>\n",
       "    </tr>\n",
       "    <tr>\n",
       "      <th>75%</th>\n",
       "      <td>2001.000000</td>\n",
       "      <td>2002.000000</td>\n",
       "      <td>74.000000</td>\n",
       "      <td>NaN</td>\n",
       "      <td>NaN</td>\n",
       "      <td>NaN</td>\n",
       "      <td>NaN</td>\n",
       "      <td>0.000000</td>\n",
       "    </tr>\n",
       "    <tr>\n",
       "      <th>max</th>\n",
       "      <td>2023.000000</td>\n",
       "      <td>2024.000000</td>\n",
       "      <td>96.000000</td>\n",
       "      <td>NaN</td>\n",
       "      <td>NaN</td>\n",
       "      <td>NaN</td>\n",
       "      <td>NaN</td>\n",
       "      <td>1.000000</td>\n",
       "    </tr>\n",
       "  </tbody>\n",
       "</table>\n",
       "</div>"
      ],
      "text/plain": [
       "           year_film  year_ceremony      ceremony   category  \\\n",
       "count   10889.000000   10889.000000  10889.000000      10889   \n",
       "unique           NaN            NaN           NaN        115   \n",
       "top              NaN            NaN           NaN  DIRECTING   \n",
       "freq             NaN            NaN           NaN        469   \n",
       "mean     1976.608596    1977.608596     49.633024        NaN   \n",
       "std        27.358261      27.358261     27.316863        NaN   \n",
       "min      1927.000000    1928.000000      1.000000        NaN   \n",
       "25%      1952.000000    1953.000000     25.000000        NaN   \n",
       "50%      1976.000000    1977.000000     49.000000        NaN   \n",
       "75%      2001.000000    2002.000000     74.000000        NaN   \n",
       "max      2023.000000    2024.000000     96.000000        NaN   \n",
       "\n",
       "                       name            film     winner  winner_binary  \n",
       "count                 10884           10570      10889   10889.000000  \n",
       "unique                 7039            5041          2            NaN  \n",
       "top     Metro-Goldwyn-Mayer  A Star Is Born  NOMINATED            NaN  \n",
       "freq                     64              25       8424            NaN  \n",
       "mean                    NaN             NaN        NaN       0.226375  \n",
       "std                     NaN             NaN        NaN       0.418504  \n",
       "min                     NaN             NaN        NaN       0.000000  \n",
       "25%                     NaN             NaN        NaN       0.000000  \n",
       "50%                     NaN             NaN        NaN       0.000000  \n",
       "75%                     NaN             NaN        NaN       0.000000  \n",
       "max                     NaN             NaN        NaN       1.000000  "
      ]
     },
     "execution_count": 10,
     "metadata": {},
     "output_type": "execute_result"
    }
   ],
   "source": [
    "df.describe(include=\"all\")"
   ]
  },
  {
   "cell_type": "code",
   "execution_count": 11,
   "id": "4f70d82f",
   "metadata": {
    "execution": {
     "iopub.execute_input": "2022-11-12T18:48:14.591175Z",
     "iopub.status.busy": "2022-11-12T18:48:14.590769Z",
     "iopub.status.idle": "2022-11-12T18:48:14.598902Z",
     "shell.execute_reply": "2022-11-12T18:48:14.597513Z"
    },
    "papermill": {
     "duration": 0.018039,
     "end_time": "2022-11-12T18:48:14.601402",
     "exception": false,
     "start_time": "2022-11-12T18:48:14.583363",
     "status": "completed"
    },
    "tags": []
   },
   "outputs": [
    {
     "data": {
      "text/plain": [
       "(10889, 8)"
      ]
     },
     "execution_count": 11,
     "metadata": {},
     "output_type": "execute_result"
    }
   ],
   "source": [
    "df.shape"
   ]
  },
  {
   "cell_type": "code",
   "execution_count": 12,
   "id": "b2270e1c",
   "metadata": {
    "execution": {
     "iopub.execute_input": "2022-11-12T18:48:14.615385Z",
     "iopub.status.busy": "2022-11-12T18:48:14.614952Z",
     "iopub.status.idle": "2022-11-12T18:48:14.627919Z",
     "shell.execute_reply": "2022-11-12T18:48:14.626740Z"
    },
    "papermill": {
     "duration": 0.023031,
     "end_time": "2022-11-12T18:48:14.630484",
     "exception": false,
     "start_time": "2022-11-12T18:48:14.607453",
     "status": "completed"
    },
    "tags": []
   },
   "outputs": [
    {
     "data": {
      "text/plain": [
       "<bound method DataFrame.info of        year_film  year_ceremony  ceremony                          category  \\\n",
       "0           1927           1928         1                             ACTOR   \n",
       "1           1927           1928         1                             ACTOR   \n",
       "2           1927           1928         1                           ACTRESS   \n",
       "3           1927           1928         1                           ACTRESS   \n",
       "4           1927           1928         1                           ACTRESS   \n",
       "...          ...            ...       ...                               ...   \n",
       "10884       2023           2024        96     WRITING (Original Screenplay)   \n",
       "10885       2023           2024        96  JEAN HERSHOLT HUMANITARIAN AWARD   \n",
       "10886       2023           2024        96                    HONORARY AWARD   \n",
       "10887       2023           2024        96                    HONORARY AWARD   \n",
       "10888       2023           2024        96                    HONORARY AWARD   \n",
       "\n",
       "                                                    name              film  \\\n",
       "0                                    Richard Barthelmess         The Noose   \n",
       "1                                          Emil Jannings  The Last Command   \n",
       "2                                         Louise Dresser   A Ship Comes In   \n",
       "3                                           Janet Gaynor        7th Heaven   \n",
       "4                                         Gloria Swanson    Sadie Thompson   \n",
       "...                                                  ...               ...   \n",
       "10884                             Written by Celine Song        Past Lives   \n",
       "10885                                                NaN               NaN   \n",
       "10886  To Angela Bassett, who has inspired audiences ...               NaN   \n",
       "10887  To Mel Brooks, for his comedic brilliance, pro...               NaN   \n",
       "10888  To Carol Littleton, whose commitment to her cr...               NaN   \n",
       "\n",
       "          winner  winner_binary  \n",
       "0      NOMINATED              0  \n",
       "1         WINNER              1  \n",
       "2      NOMINATED              0  \n",
       "3         WINNER              1  \n",
       "4      NOMINATED              0  \n",
       "...          ...            ...  \n",
       "10884  NOMINATED              0  \n",
       "10885     WINNER              1  \n",
       "10886     WINNER              1  \n",
       "10887     WINNER              1  \n",
       "10888     WINNER              1  \n",
       "\n",
       "[10889 rows x 8 columns]>"
      ]
     },
     "execution_count": 12,
     "metadata": {},
     "output_type": "execute_result"
    }
   ],
   "source": [
    "df.info"
   ]
  },
  {
   "cell_type": "code",
   "execution_count": 13,
   "id": "5d58cb55",
   "metadata": {
    "execution": {
     "iopub.execute_input": "2022-11-12T18:48:14.644941Z",
     "iopub.status.busy": "2022-11-12T18:48:14.644493Z",
     "iopub.status.idle": "2022-11-12T18:48:14.656535Z",
     "shell.execute_reply": "2022-11-12T18:48:14.655485Z"
    },
    "papermill": {
     "duration": 0.022231,
     "end_time": "2022-11-12T18:48:14.659042",
     "exception": false,
     "start_time": "2022-11-12T18:48:14.636811",
     "status": "completed"
    },
    "tags": []
   },
   "outputs": [
    {
     "data": {
      "text/plain": [
       "year_film          0\n",
       "year_ceremony      0\n",
       "ceremony           0\n",
       "category           0\n",
       "name               5\n",
       "film             319\n",
       "winner             0\n",
       "winner_binary      0\n",
       "dtype: int64"
      ]
     },
     "execution_count": 13,
     "metadata": {},
     "output_type": "execute_result"
    }
   ],
   "source": [
    "df.isnull().sum()"
   ]
  },
  {
   "cell_type": "code",
   "execution_count": 14,
   "id": "c3e38d20",
   "metadata": {
    "execution": {
     "iopub.execute_input": "2022-11-12T18:48:14.674439Z",
     "iopub.status.busy": "2022-11-12T18:48:14.673434Z",
     "iopub.status.idle": "2022-11-12T18:48:14.695107Z",
     "shell.execute_reply": "2022-11-12T18:48:14.693637Z"
    },
    "papermill": {
     "duration": 0.03205,
     "end_time": "2022-11-12T18:48:14.697821",
     "exception": false,
     "start_time": "2022-11-12T18:48:14.665771",
     "status": "completed"
    },
    "tags": []
   },
   "outputs": [
    {
     "data": {
      "text/plain": [
       "year_film          96\n",
       "year_ceremony      96\n",
       "ceremony           96\n",
       "category          115\n",
       "name             7039\n",
       "film             5041\n",
       "winner              2\n",
       "winner_binary       2\n",
       "dtype: int64"
      ]
     },
     "execution_count": 14,
     "metadata": {},
     "output_type": "execute_result"
    }
   ],
   "source": [
    "df.nunique()"
   ]
  },
  {
   "cell_type": "code",
   "execution_count": 15,
   "id": "135685c1",
   "metadata": {
    "execution": {
     "iopub.execute_input": "2022-11-12T18:48:14.714055Z",
     "iopub.status.busy": "2022-11-12T18:48:14.713616Z",
     "iopub.status.idle": "2022-11-12T18:48:14.725759Z",
     "shell.execute_reply": "2022-11-12T18:48:14.723553Z"
    },
    "papermill": {
     "duration": 0.023563,
     "end_time": "2022-11-12T18:48:14.729278",
     "exception": false,
     "start_time": "2022-11-12T18:48:14.705715",
     "status": "completed"
    },
    "tags": []
   },
   "outputs": [
    {
     "name": "stdout",
     "output_type": "stream",
     "text": [
      "year_film: [1927 1928 1929 1930 1931 1932 1934 1935 1936 1937 1938 1939 1940 1941\n",
      " 1942 1943 1944 1945 1946 1947 1948 1949 1950 1951 1952 1953 1954 1955\n",
      " 1956 1957 1958 1959 1960 1961 1962 1963 1964 1965 1966 1967 1968 1969\n",
      " 1970 1971 1972 1973 1974 1975 1976 1977 1978 1979 1980 1981 1982 1983\n",
      " 1984 1985 1986 1987 1988 1989 1990 1991 1992 1993 1994 1995 1996 1997\n",
      " 1998 1999 2000 2001 2002 2003 2004 2005 2006 2007 2008 2009 2010 2011\n",
      " 2012 2013 2014 2015 2016 2017 2018 2019 2020 2021 2022 2023]\n",
      "name: ['Richard Barthelmess' 'Emil Jannings' 'Louise Dresser' ...\n",
      " 'To Angela Bassett, who has inspired audiences around the world with her powerful and fearless performances.'\n",
      " 'To Mel Brooks, for his comedic brilliance, producing acumen and expansive body of work.'\n",
      " 'To Carol Littleton, whose commitment to her craft has significantly elevated the art of film editing.']\n",
      "film: ['The Noose' 'The Last Command' 'A Ship Comes In' ... 'Godzilla Minus One'\n",
      " 'Guardians of the Galaxy Vol. 3' 'May December']\n"
     ]
    }
   ],
   "source": [
    "print(\"year_film:\",df['year_film'].unique())\n",
    "print(\"name:\",df['name'].unique())\n",
    "print(\"film:\",df['film'].unique())"
   ]
  }
 ],
 "metadata": {
  "kernelspec": {
   "display_name": "Python 3",
   "language": "python",
   "name": "python3"
  },
  "language_info": {
   "codemirror_mode": {
    "name": "ipython",
    "version": 3
   },
   "file_extension": ".py",
   "mimetype": "text/x-python",
   "name": "python",
   "nbconvert_exporter": "python",
   "pygments_lexer": "ipython3",
   "version": "3.11.7"
  },
  "papermill": {
   "default_parameters": {},
   "duration": 12.292607,
   "end_time": "2022-11-12T18:48:15.459229",
   "environment_variables": {},
   "exception": null,
   "input_path": "__notebook__.ipynb",
   "output_path": "__notebook__.ipynb",
   "parameters": {},
   "start_time": "2022-11-12T18:48:03.166622",
   "version": "2.3.4"
  }
 },
 "nbformat": 4,
 "nbformat_minor": 5
}
